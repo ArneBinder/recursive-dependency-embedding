{
 "cells": [
  {
   "cell_type": "code",
   "execution_count": 1,
   "metadata": {
    "collapsed": false
   },
   "outputs": [
    {
     "data": {
      "text/html": [
       "<style>.container { width:100% !important; }</style>"
      ],
      "text/plain": [
       "<IPython.core.display.HTML object>"
      ]
     },
     "metadata": {},
     "output_type": "display_data"
    }
   ],
   "source": [
    "import os\n",
    "os.chdir(\"/home/arne/devel/PycharmProjects/recursive-dependency-embedding\")\n",
    "from __future__ import print_function\n",
    "from IPython.core.display import display, HTML\n",
    "display(HTML(\"<style>.container { width:100% !important; }</style>\"))\n",
    "import spacy\n",
    "import preprocessing\n",
    "#from preprocessing import read_data, read_data2, string_reader, get_word_embeddings, process_sentence2, process_sentence3, process_sentence4, addMissingEmbeddings\n",
    "import constants\n",
    "from IPython.display import Image\n",
    "from visualize import visualize, visualize2, getFromVocs\n",
    "import tools"
   ]
  },
  {
   "cell_type": "code",
   "execution_count": 2,
   "metadata": {
    "collapsed": false
   },
   "outputs": [
    {
     "name": "stdout",
     "output_type": "stream",
     "text": [
      "extract word embeddings from spaCy...\n",
      "Total time running get_word_embeddings: 6.36585593224 seconds\n"
     ]
    }
   ],
   "source": [
    "nlp = spacy.load('en')\n",
    "nlp.pipeline = [nlp.tagger, nlp.parser]\n",
    "print('extract word embeddings from spaCy...')\n",
    "vecs, mapping = preprocessing.get_word_embeddings(nlp.vocab)\n",
    "# for processing parser output\n",
    "data_maps = {constants.WORD_EMBEDDING: mapping}\n",
    "data_maps2 = mapping\n",
    "# data vectors\n",
    "data_vecs = {constants.WORD_EMBEDDING: vecs}"
   ]
  },
  {
   "cell_type": "code",
   "execution_count": 3,
   "metadata": {
    "collapsed": true
   },
   "outputs": [],
   "source": [
    "import operator\n",
    "def getCounts(seq_data, vocab, vocab_neg, data_maps_reverse):\n",
    "    data_counts = {}\n",
    "    for data in seq_data:\n",
    "        tools.incOrAdd(data_counts, data)\n",
    "    #print(data_counts)\n",
    "    \n",
    "    d = {getFromVocs(vocab, vocab_neg, data_maps_reverse[key]): data_counts[key] for key in data_counts}\n",
    "    return sorted(d.items(), key=operator.itemgetter(1), reverse=True)"
   ]
  },
  {
   "cell_type": "code",
   "execution_count": 5,
   "metadata": {
    "collapsed": true
   },
   "outputs": [],
   "source": [
    "def read_sentence(sentence, vis = False):\n",
    "    seq_data, seq_types, seq_parents, seq_edges = read_data(preprocessing.string_reader, nlp, data_maps, args={'content': sentence})\n",
    "        \n",
    "    data_maps_reverse = {}\n",
    "    for key in data_maps:\n",
    "        data_maps_reverse[key] = tools.revert_mapping(data_maps[key])\n",
    "        \n",
    "    if vis == True:\n",
    "        visualize('forest_temp.png', (seq_data, seq_types, seq_parents, seq_edges), data_maps_reverse, nlp.vocab)\n",
    "        img = Image('forest_temp.png')\n",
    "        display(img)\n",
    "   \n",
    "    return seq_data, seq_types, seq_parents, seq_edges\n",
    "\n",
    "\n",
    "def read_sentence2(sentence, vis = False):\n",
    "    seq_data, seq_parents, root = preprocessing.read_data2(preprocessing.string_reader, preprocessing.process_sentence2, nlp, data_maps2, args={'content': sentence})\n",
    "    print('root: '+ str(root))\n",
    "    \n",
    "    data_maps_reverse = tools.revert_mapping(data_maps2)\n",
    "    \n",
    "    print('counts: '+str(getCounts(seq_data, nlp.vocab, constants.vocab_manual, data_maps_reverse)))\n",
    "    #print('counts: ' + str(tools.getFromDicts(nlp.vocab, constants.vocab_manual,)))\n",
    "    \n",
    "        \n",
    "    \n",
    "        \n",
    "    if vis == True:\n",
    "        visualize2('forest_temp.png', (seq_data, seq_parents), data_maps_reverse, nlp.vocab, constants.vocab_manual)\n",
    "        img = Image('forest_temp.png')\n",
    "        display(img)\n",
    "   \n",
    "    return seq_data, seq_parents, root"
   ]
  },
  {
   "cell_type": "code",
   "execution_count": 6,
   "metadata": {
    "collapsed": false
   },
   "outputs": [
    {
     "data": {
      "text/plain": [
       "1297613"
      ]
     },
     "execution_count": 6,
     "metadata": {},
     "output_type": "execute_result"
    }
   ],
   "source": [
    "sorted(data_maps2.values())[-10:]\n",
    "len(sorted(data_maps2.values()))"
   ]
  },
  {
   "cell_type": "code",
   "execution_count": 8,
   "metadata": {
    "collapsed": false
   },
   "outputs": [
    {
     "name": "stdout",
     "output_type": "stream",
     "text": [
      "root: 0\n",
      "counts: [(u'A', 1)]\n"
     ]
    },
    {
     "data": {
      "image/png": "[encoded data removed]",
      "text/plain": [
       "<IPython.core.display.Image object>"
      ]
     },
     "metadata": {},
     "output_type": "display_data"
    },
    {
     "name": "stdout",
     "output_type": "stream",
     "text": [
      "[291]\n",
      "[0]\n"
     ]
    }
   ],
   "source": [
    "(seq_data, seq_parents, root) = read_sentence2('A very shy monkey is practicing martial arts. I like this.', True) \n",
    "#(seq_data, seq_parents, root) = read_sentence2('London is a big city in the United Kingdom.', True) \n",
    "#new_embeddings, added_count = addMissingEmbeddings(seq_data, vecs)\n",
    "#new_embeddings, added_count = addMissingEmbeddings(seq_data, new_embeddings)\n",
    "#vecs = new_embeddings\n",
    "\n",
    "print(seq_data)\n",
    "print(seq_parents)"
   ]
  },
  {
   "cell_type": "code",
   "execution_count": 7,
   "metadata": {
    "collapsed": false
   },
   "outputs": [
    {
     "data": {
      "text/plain": [
       "head: 145\n",
       "children {\n",
       "  head: 5593\n",
       "  children {\n",
       "    head: 6313\n",
       "    children {\n",
       "      head: 291\n",
       "      children {\n",
       "        head: 48\n",
       "      }\n",
       "    }\n",
       "    children {\n",
       "      head: 5132\n",
       "      children {\n",
       "        head: 234\n",
       "        children {\n",
       "          head: 1297613\n",
       "        }\n",
       "      }\n",
       "      children {\n",
       "        head: 1297614\n",
       "      }\n",
       "    }\n",
       "    children {\n",
       "      head: 1297615\n",
       "    }\n",
       "  }\n",
       "  children {\n",
       "    head: 117\n",
       "    children {\n",
       "      head: 44\n",
       "    }\n",
       "  }\n",
       "  children {\n",
       "    head: 53146\n",
       "  }\n",
       "  children {\n",
       "    head: 5353\n",
       "    children {\n",
       "      head: 7686\n",
       "      children {\n",
       "        head: 1297614\n",
       "      }\n",
       "    }\n",
       "    children {\n",
       "      head: 1297616\n",
       "    }\n",
       "  }\n",
       "  children {\n",
       "    head: 70\n",
       "    children {\n",
       "      head: 62\n",
       "    }\n",
       "  }\n",
       "}\n",
       "children {\n",
       "  head: 110\n",
       "  children {\n",
       "    head: 1297615\n",
       "  }\n",
       "}\n",
       "children {\n",
       "  head: 53146\n",
       "}\n",
       "children {\n",
       "  head: 139\n",
       "  children {\n",
       "    head: 1297616\n",
       "  }\n",
       "}\n",
       "children {\n",
       "  head: 70\n",
       "  children {\n",
       "    head: 62\n",
       "  }\n",
       "}"
      ]
     },
     "execution_count": 7,
     "metadata": {},
     "output_type": "execute_result"
    }
   ],
   "source": [
    "from preprocessing import build_sequence_tree, children_and_roots\n",
    "children, roots = children_and_roots(seq_parents)\n",
    "seq_tree = build_sequence_tree(seq_data, children, root)\n",
    "seq_tree"
   ]
  },
  {
   "cell_type": "code",
   "execution_count": 2,
   "metadata": {
    "collapsed": false
   },
   "outputs": [
    {
     "name": "stdout",
     "output_type": "stream",
     "text": [
      "embeddings_np.shape: (1297614, 300)\n",
      "embeddings_padded.shape: (1300000, 300)\n"
     ]
    }
   ],
   "source": [
    "import tensorflow_fold as td\n",
    "import tensorflow as tf\n",
    "import numpy as np\n",
    "\n",
    "embeddings_np = np.load('data/nlp/spacy/dict.vecs')[]\n",
    "embedding_dim = embeddings_np.shape[1]\n",
    "lex_size = 1300000\n",
    "#print('load mappings from: ' + data_fn + '.mapping ...')\n",
    "#mapping = pickle.load(open(data_fn + '.mapping', \"rb\"))\n",
    "assert lex_size >= embeddings_np.shape[0], 'len(embeddings) > lex_size. Can not cut the lexicon!'\n",
    "embeddings_padded = np.lib.pad(embeddings_np, ((0, lex_size - embeddings_np.shape[0]), (0, 0)), 'mean')\n",
    "\n",
    "print('embeddings_np.shape: '+str(embeddings_np.shape))\n",
    "print('embeddings_padded.shape: ' + str(embeddings_padded.shape))\n",
    "\n",
    "\n"
   ]
  },
  {
   "cell_type": "code",
   "execution_count": 4,
   "metadata": {
    "collapsed": false
   },
   "outputs": [],
   "source": [
    "with tf.Graph().as_default():\n",
    "    W = tf.Variable(tf.constant(0.0, shape=[lex_size, embedding_dim]),\n",
    "                            trainable=False, name=\"W\")\n",
    "\n",
    "    embedding_placeholder = tf.placeholder(tf.float32, [lex_size, embedding_dim])\n",
    "    embedding_init = W.assign(embedding_placeholder)\n",
    "    a = tf.placeholder(tf.float32)\n",
    "    \n",
    "    sess = tf.Session()\n",
    "    sess.run(embedding_init, feed_dict={embedding_placeholder: embeddings_padded})"
   ]
  },
  {
   "cell_type": "code",
   "execution_count": null,
   "metadata": {
    "collapsed": true
   },
   "outputs": [],
   "source": []
  },
  {
   "cell_type": "code",
   "execution_count": 12,
   "metadata": {
    "collapsed": false
   },
   "outputs": [
    {
     "ename": "AttributeError",
     "evalue": "'ForwardDeclaration' object has no attribute 'eval'",
     "output_type": "error",
     "traceback": [
      "\u001b[0;31m---------------------------------------------------------------------------\u001b[0m",
      "\u001b[0;31mAttributeError\u001b[0m                            Traceback (most recent call last)",
      "\u001b[0;32m<ipython-input-12-81202311a997>\u001b[0m in \u001b[0;36m<module>\u001b[0;34m()\u001b[0m\n\u001b[1;32m      2\u001b[0m \u001b[0;34m\u001b[0m\u001b[0m\n\u001b[1;32m      3\u001b[0m \u001b[0mx\u001b[0m \u001b[0;34m=\u001b[0m \u001b[0msequence_tree_block\u001b[0m\u001b[0;34m(\u001b[0m\u001b[0;36m300\u001b[0m\u001b[0;34m,\u001b[0m \u001b[0membeds\u001b[0m\u001b[0;34m)\u001b[0m\u001b[0;34m\u001b[0m\u001b[0m\n\u001b[0;32m----> 4\u001b[0;31m \u001b[0mx\u001b[0m\u001b[0;34m.\u001b[0m\u001b[0meval\u001b[0m\u001b[0;34m(\u001b[0m\u001b[0mseq_tree\u001b[0m\u001b[0;34m)\u001b[0m\u001b[0;34m\u001b[0m\u001b[0m\n\u001b[0m\u001b[1;32m      5\u001b[0m \u001b[0;31m#seq_tree\u001b[0m\u001b[0;34m\u001b[0m\u001b[0;34m\u001b[0m\u001b[0m\n",
      "\u001b[0;31mAttributeError\u001b[0m: 'ForwardDeclaration' object has no attribute 'eval'"
     ]
    }
   ],
   "source": [
    "embeds = td.Embedding(10000, 300, name='head_embed')\n",
    "\n",
    "x = sequence_tree_block(300, embeds)\n",
    "x.eval(seq_tree)\n",
    "#seq_tree"
   ]
  },
  {
   "cell_type": "code",
   "execution_count": 12,
   "metadata": {
    "collapsed": false
   },
   "outputs": [],
   "source": [
    "import tensorflow_fold as td\n",
    "import tensorflow as tf\n",
    "\n",
    "lex_size = 5\n",
    "state_size = 10\n",
    "\n",
    "expr_decl = td.ForwardDeclaration(td.PyObjectType(), state_size)\n",
    "\n",
    "# get the head embedding from id\n",
    "def head(name_):\n",
    "     return td.Pipe(td.Scalar(dtype='int32'), \n",
    "               td.Function(td.Embedding(lex_size, state_size, name='head_embed')), \n",
    "               name=name_)\n",
    "# get the weighted sum of all children\n",
    "def children_aggr(name_):\n",
    "     return td.Pipe(td.Map(expr_decl()), \n",
    "                        td.Map(td.Function(lambda x: tf.norm(x) * x)), \n",
    "                        td.Reduce(td.Function(tf.add)), \n",
    "                        name=name_)\n",
    "\n",
    "#dummy = td.con\n",
    "\n",
    "gru_cell = td.ScopedLayer(tf.contrib.rnn.GRUCell(num_units=state_size), 'mygru')\n",
    "\n",
    "#def aggr_op():\n",
    "#    return (td.Record([('head', head), ('children', children_aggr)]) >>\n",
    "#              td.Concat() >>\n",
    "#              td.FC(state_size, name='FC_aggr'))\n",
    "    #return ([children_aggr] >> td.RNN(gru_cell, initial_state=head))\n",
    "    #return (children_aggr)\n",
    "\n",
    "def cas(seq_tree):    \n",
    "    # process and aggregate\n",
    "    if len(seq_tree['children']) > 0 and seq_tree['head'] is not None:\n",
    "        return 0\n",
    "    # dont process children\n",
    "    if len(seq_tree['children']) == 0:\n",
    "        return 1\n",
    "    # process children only\n",
    "    return 2\n",
    "    \n",
    "    \n",
    "cases = td.OneOf(lambda x: cas(x),\n",
    "                     {1: td.Record([('head', head('head') >> td.Broadcast()), ('children', children_aggr('children_aggr') >> td.Broadcast())]) \n",
    "                      >> td.Zip() \n",
    "                      >> td.Reduce(td.Function(tf.add)), #td.RNN(gru_cell, initial_state_from_input=True),\n",
    "                      2: td.GetItem('head') >> td.Optional(head('just_head')),\n",
    "                      3: td.GetItem('children') >> children_aggr('just_children')})\n",
    "\n",
    "\n",
    "expr_decl.resolve_to(cases)"
   ]
  },
  {
   "cell_type": "code",
   "execution_count": null,
   "metadata": {
    "collapsed": true
   },
   "outputs": [],
   "source": [
    "cases2 = td.OneOf(lambda x: cas(x),\n",
    "                     {1: td.Record([('head', head('head') >> td.Broadcast()), ('children', children_aggr('children_aggr') >> td.Broadcast())]) \n",
    "                      >> td.Zip() \n",
    "                      >> td.Reduce(td.Function(tf.add)), #td.RNN(gru_cell, initial_state_from_input=True),\n",
    "                      2: td.GetItem('head') >> td.Optional(head('just_head'))})"
   ]
  },
  {
   "cell_type": "code",
   "execution_count": 25,
   "metadata": {
    "collapsed": false
   },
   "outputs": [],
   "source": [
    "import numpy as np\n",
    "def calc_embedding_avg(seq):\n",
    "    seq_data, seq_types, seq_parents, seq_edges = seq\n",
    "    e = np.zeros(nlp.vocab.vectors_length) # TODO: check dim of embeddings!\n",
    "    for i in range(len(seq_data)):\n",
    "        e += data_vecs[seq_types[i]][seq_data[i]]\n",
    "    return e / len(seq_data) # average"
   ]
  },
  {
   "cell_type": "code",
   "execution_count": 26,
   "metadata": {
    "collapsed": false
   },
   "outputs": [
    {
     "data": {
      "text/plain": [
       "array([  1.07410002e-02,   1.04797661e-01,  -9.15853009e-02,\n",
       "        -5.72742199e-02,   1.87026666e-01,  -2.82920011e-02,\n",
       "         3.37927755e-02,  -1.95071244e-01,  -3.40955622e-03,\n",
       "         2.12087999e+00,  -1.69830299e-01,   1.09519947e-02,\n",
       "        -6.34260000e-02,  -1.11622448e-01,  -1.12552635e-02,\n",
       "         1.59957554e-01,   1.04001443e-01,   8.65459439e-01,\n",
       "        -2.38412996e-01,   5.50149985e-02,  -7.51673329e-02,\n",
       "        -1.80346219e-01,  -8.34840544e-02,  -1.11868726e-01,\n",
       "         8.09453333e-02,  -6.86778910e-02,  -1.04682251e-02,\n",
       "        -4.30825555e-02,   6.12711095e-02,  -2.60911190e-01,\n",
       "        -4.86684436e-02,   4.19144664e-03,   1.84042576e-01,\n",
       "        -2.16793002e-01,   1.31033664e-01,  -8.43688916e-02,\n",
       "         6.11080002e-02,  -5.91083342e-02,  -1.17230153e-01,\n",
       "        -3.09220557e-01,   1.51952467e-01,   1.42462335e-01,\n",
       "         1.21541668e-01,  -3.40155537e-02,   2.18288891e-01,\n",
       "         2.27417561e-01,  -7.52422234e-02,   5.98678859e-02,\n",
       "        -1.67224473e-02,  -3.23182234e-02,  -8.34898931e-02,\n",
       "         1.34362105e-01,   7.78132193e-02,  -8.26855567e-02,\n",
       "        -4.99884484e-02,   9.82477764e-02,   2.58313329e-01,\n",
       "         7.44703989e-02,   1.58539788e-01,  -1.79091890e-01,\n",
       "        -1.52926354e-01,  -1.67834107e-01,   8.29716656e-02,\n",
       "         4.79773515e-04,  -8.02321086e-02,  -2.70239219e-01,\n",
       "        -3.51207790e-02,   6.25409985e-02,  -1.65886680e-02,\n",
       "        -6.15422189e-02,  -2.38594776e-01,  -2.36611111e-01,\n",
       "        -1.64437109e-01,  -1.29867328e-01,   2.07939991e-02,\n",
       "         8.93174391e-02,   3.76311131e-02,  -1.75675330e-01,\n",
       "        -2.44385551e-01,   3.88110000e-01,  -8.46636676e-02,\n",
       "        -1.77738825e-01,  -6.35185560e-02,   1.24104703e-01,\n",
       "        -1.36219333e-01,  -5.53031117e-02,  -1.28282329e-01,\n",
       "         6.04316627e-02,  -5.85127721e-02,  -8.48738613e-02,\n",
       "         1.61401091e-02,   1.34511000e-01,  -1.68966245e-01,\n",
       "        -2.59585554e-02,   7.02004441e-02,  -3.86182225e-02,\n",
       "        -8.37114454e-02,  -6.18888856e-02,   4.32952220e-02,\n",
       "        -7.75846665e-02,  -3.36385549e-02,   8.74209996e-02,\n",
       "        -2.78967281e-01,   3.73013322e-02,   1.36886891e-01,\n",
       "        -8.19442226e-01,  -1.11216109e-01,   8.21328883e-02,\n",
       "         8.80926176e-02,   7.10428920e-02,   4.10798892e-02,\n",
       "        -1.69319553e-01,   2.47318097e-02,  -1.93390888e-01,\n",
       "        -1.32941223e-01,   2.13918625e-01,  -2.44221754e-04,\n",
       "         1.10906621e-02,   7.10125563e-02,   1.06600666e-01,\n",
       "         2.99041063e-02,  -9.39185561e-02,  -1.11975553e-02,\n",
       "        -8.29375111e-02,  -4.11332978e-03,   2.31372221e-01,\n",
       "        -1.49058278e-01,  -1.42574111e-01,   1.20825938e-01,\n",
       "         1.69795545e-02,  -3.03407767e-02,  -1.32757447e-01,\n",
       "        -1.90023558e-01,   9.79033361e-03,  -4.74654354e-02,\n",
       "        -1.28657827e-01,  -1.39650032e-02,  -5.35103327e-02,\n",
       "         9.19810931e-03,   1.14445556e-01,  -1.48976892e+00,\n",
       "         6.01797857e-02,  -3.48435304e-02,   2.52573694e-02,\n",
       "        -7.19107803e-02,  -8.80910456e-03,   2.33715442e-01,\n",
       "        -7.98155574e-02,   3.28251343e-02,  -1.26380333e-01,\n",
       "        -1.87539888e-01,   1.90548553e-01,   1.29991781e-01,\n",
       "         1.24082228e-01,  -8.62814654e-02,   2.29596694e-02,\n",
       "        -2.77936666e-02,  -1.62832556e-01,  -1.39483333e-01,\n",
       "        -3.48493002e-01,   1.47709113e-01,  -7.83911252e-02,\n",
       "        -2.98944444e-02,   5.95300044e-03,  -6.59877117e-02,\n",
       "        -1.78182775e-01,  -1.28389113e-01,  -1.70888552e-01,\n",
       "        -2.67243484e-03,  -5.12502894e-02,   1.20206666e-01,\n",
       "         4.15973345e-02,   6.61442213e-02,   8.98190017e-02,\n",
       "        -2.02069871e-01,  -3.51172214e-02,  -9.63514430e-02,\n",
       "         7.68295572e-02,  -1.78254445e-02,   1.44377146e-02,\n",
       "         4.35842228e-02,   3.78995536e-02,  -3.71094445e-02,\n",
       "        -1.31035557e-01,  -9.92294438e-02,  -9.18699572e-02,\n",
       "        -1.10783441e-01,   1.28265029e-01,   1.23082444e-01,\n",
       "        -2.35806641e-02,  -2.08306824e-01,   3.51148901e-02,\n",
       "        -1.74608893e-01,  -6.76129974e-02,   2.90398879e-02,\n",
       "         3.34912208e-02,   9.93133353e-02,  -1.71854224e-01,\n",
       "         2.88611331e-01,   9.19421990e-03,   6.85469997e-02,\n",
       "         9.56936540e-02,  -1.47779777e-01,   3.98160004e-02,\n",
       "         2.73840030e-02,   1.15084441e-02,  -4.40041117e-02,\n",
       "        -1.08159446e-01,   1.28221888e-01,  -8.24554455e-02,\n",
       "        -1.40385582e-02,   1.21629333e-01,   4.47298544e-02,\n",
       "        -1.24776113e-01,  -3.61581130e-02,   2.63674669e-01,\n",
       "        -1.43337789e-02,   6.51814781e-02,   7.98714471e-02,\n",
       "         9.47489051e-03,   1.61170781e-01,   2.74975523e-02,\n",
       "         1.88060175e-01,  -2.12309991e-01,  -8.98343372e-02,\n",
       "        -3.45350880e-03,  -1.40105333e-01,   1.70700002e-01,\n",
       "         1.18994886e-01,   5.67653266e-02,  -8.15917792e-02,\n",
       "        -3.13634461e-02,  -5.52161137e-02,  -9.12101124e-02,\n",
       "        -2.07808999e-01,  -9.75893297e-02,  -1.31515000e-01,\n",
       "         8.48066666e-02,  -2.31315576e-02,   5.12719762e-02,\n",
       "        -1.21902222e-01,  -1.00865999e-01,   2.07210573e-01,\n",
       "         6.17065566e-02,   1.19688223e-01,  -5.34781358e-04,\n",
       "        -1.97253441e-01,  -1.12463111e-01,  -4.59925536e-02,\n",
       "         2.09824337e-01,   1.82390672e-01,   2.15944463e-02,\n",
       "        -9.11335535e-02,   2.23577221e-01,   1.15355669e-01,\n",
       "         5.45317770e-02,   1.42378005e-01,  -1.32718112e-01,\n",
       "         6.95216535e-02,   6.20217756e-02,   9.18811080e-02,\n",
       "         1.92233336e-01,   2.06083998e-01,   5.72523326e-02,\n",
       "        -2.04922996e-01,  -4.10727784e-02,  -1.32776110e-01,\n",
       "        -6.11407148e-02,   2.38311446e-01,   7.91755653e-02,\n",
       "        -3.66913669e-01,  -6.05423231e-02,  -3.62283778e-01,\n",
       "        -1.46893999e-01,  -6.54542200e-02,   3.76142230e-02,\n",
       "         8.77697729e-02,  -5.91340003e-02,  -9.90068514e-02,\n",
       "         2.03890667e-01,   2.66062895e-01,   5.34199990e-02,\n",
       "         6.84597685e-03,   1.46160662e-02,  -2.25169107e-02,\n",
       "        -1.26932335e-01,  -7.10994477e-02,  -1.19599031e-01,\n",
       "         1.88814441e-01,  -4.58424460e-02,   1.56545426e-01,\n",
       "        -1.72909735e-01,  -2.16618108e-01,   3.19712559e-02,\n",
       "        -3.26492234e-02,   2.70844668e-01,   1.31079889e-01,\n",
       "        -2.10406673e-02,   3.83788885e-02,   1.38077403e-01])"
      ]
     },
     "execution_count": 26,
     "metadata": {},
     "output_type": "execute_result"
    }
   ],
   "source": [
    "calc_embedding_avg(read_sentence('A very shy monkey is practicing martial arts.'))"
   ]
  },
  {
   "cell_type": "code",
   "execution_count": 29,
   "metadata": {
    "collapsed": false
   },
   "outputs": [],
   "source": [
    "doc = nlp(u\"Apples and oranges are ASdjkhaksdhkahd. Boots and hippos aren't.\")\n",
    "\n",
    "apples = doc[0]\n",
    "oranges = doc[2]\n",
    "boots = doc[6]\n",
    "hippos = doc[8]"
   ]
  },
  {
   "cell_type": "code",
   "execution_count": 31,
   "metadata": {
    "collapsed": false
   },
   "outputs": [
    {
     "data": {
      "text/plain": [
       "1510419"
      ]
     },
     "execution_count": 31,
     "metadata": {},
     "output_type": "execute_result"
    }
   ],
   "source": [
    "doc[4].orth"
   ]
  },
  {
   "cell_type": "code",
   "execution_count": 32,
   "metadata": {
    "collapsed": false
   },
   "outputs": [
    {
     "data": {
      "text/plain": [
       "1510419"
      ]
     },
     "execution_count": 32,
     "metadata": {},
     "output_type": "execute_result"
    }
   ],
   "source": [
    "doc2 = nlp(u\"Hello you ASdjkhaksdhkahd.\")\n",
    "doc2[2].orth"
   ]
  },
  {
   "cell_type": "code",
   "execution_count": 33,
   "metadata": {
    "collapsed": false
   },
   "outputs": [
    {
     "data": {
      "text/plain": [
       "1297627"
      ]
     },
     "execution_count": 33,
     "metadata": {},
     "output_type": "execute_result"
    }
   ],
   "source": [
    "len(doc.vocab)"
   ]
  },
  {
   "cell_type": "code",
   "execution_count": null,
   "metadata": {
    "collapsed": true
   },
   "outputs": [],
   "source": [
    "#TODO:"
   ]
  }
 ],
 "metadata": {
  "kernelspec": {
   "display_name": "Python [conda root]",
   "language": "python",
   "name": "conda-root-py"
  },
  "language_info": {
   "codemirror_mode": {
    "name": "ipython",
    "version": 2
   },
   "file_extension": ".py",
   "mimetype": "text/x-python",
   "name": "python",
   "nbconvert_exporter": "python",
   "pygments_lexer": "ipython2",
   "version": "2.7.12"
  }
 },
 "nbformat": 4,
 "nbformat_minor": 0
}
