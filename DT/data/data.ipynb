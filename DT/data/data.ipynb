{
 "cells": [
  {
   "cell_type": "code",
   "execution_count": 1,
   "metadata": {
    "collapsed": false
   },
   "outputs": [
    {
     "data": {
      "text/html": [
       "<style>.container { width:100% !important; }</style>"
      ],
      "text/plain": [
       "<IPython.core.display.HTML object>"
      ]
     },
     "metadata": {},
     "output_type": "display_data"
    }
   ],
   "source": [
    "#%matplotlib notebook\n",
    "%matplotlib inline\n",
    "from IPython.core.display import display, HTML\n",
    "import matplotlib.pyplot as plt\n",
    "import pandas as pd\n",
    "import numpy as np\n",
    "from scipy import stats\n",
    "import os, sys\n",
    "display(HTML(\"<style>.container { width:100% !important; }</style>\"))\n",
    "#from IPython.core.interactiveshell import InteractiveShell\n",
    "#InteractiveShell.ast_node_interactivity = \"all\""
   ]
  },
  {
   "cell_type": "code",
   "execution_count": 2,
   "metadata": {
    "collapsed": true
   },
   "outputs": [],
   "source": [
    "corpora_out = '/mnt/DATA/ML/data/corpora_out/'"
   ]
  },
  {
   "cell_type": "code",
   "execution_count": 3,
   "metadata": {
    "collapsed": true
   },
   "outputs": [],
   "source": [
    "def load_all_np(p):\n",
    "    res = []\n",
    "    i = 0\n",
    "    while os.path.exists('%s.%i.np' % (p, i)):\n",
    "        res.append(np.load('%s.%i.np' % (p, i)))\n",
    "        i += 1\n",
    "    if len(res) == 0:\n",
    "        print('WARNING: no files found for %s' % p)\n",
    "        return None\n",
    "    return np.concatenate(res) "
   ]
  },
  {
   "cell_type": "code",
   "execution_count": 117,
   "metadata": {
    "collapsed": false
   },
   "outputs": [],
   "source": [
    "#plt.style.use('seaborn-deep')\n",
    "def plot_depths_and_lengths(path, corpus_name=None, xlim=(5,30)):\n",
    "    if corpus_name is not None:\n",
    "        path = os.path.join(path, corpus_name)\n",
    "    lengths = load_all_np(path + '/length')\n",
    "    depths = load_all_np(path + '/depth')\n",
    "    if lengths is None and depths is None:\n",
    "        return\n",
    "    bins = np.linspace(0, xlim[1], 100)\n",
    "    plt.figure(figsize=(10,5))\n",
    "    if depths is not None:\n",
    "        plt.hist(depths, bins, alpha=0.5, label='depth') #label='dbpedia_first100000')\n",
    "    if lengths is not None:\n",
    "        plt.hist(lengths, bins, alpha=0.5, label='length') #label='bioasq_first100000')\n",
    "    plt.legend(loc='upper right')\n",
    "    if corpus_name is not None:\n",
    "        plt.title(corpus_name)\n",
    "    axes = plt.gca()\n",
    "    axes.set_xlim(xlim)\n",
    "\n",
    "def plot_depths_and_lengths_all(corpora_path, corpus, suffix='', xlim=(5,30)):\n",
    "    for corpus_type in ['', '_span', '_edges']:\n",
    "        plot_depths_and_lengths(corpora_path, corpus_name='%s%s%s' % (corpus, corpus_type,suffix), xlim=xlim)\n",
    "        \n",
    "\n",
    "def trans_label(label, label_mapping = {'RDF': None, 'recemb': None, 'mc2': None, 'mc20': None, 'noner': None}):\n",
    "    parts = label.split('/')\n",
    "    parts_new = []\n",
    "    for p in parts:\n",
    "        parts_new.append('_'.join([label_mapping.get(p0, p0) for p0 in p.split('_') if label_mapping.get(p0, p0) is not None]))\n",
    "    return '/'.join(parts_new)\n",
    "        \n",
    "\n",
    "def plot_multiple(datas, title=None, xlim=(5,30), normalize=True):\n",
    "    \n",
    "    #for data, label in datas:\n",
    "    #    plt.hist(data, bins, alpha=0.5, label=trans_label(label))\n",
    "    data, label = zip(*datas)\n",
    "    #nbr_bins = 100 / len(data)\n",
    "    nbr_bins = 100\n",
    "    #nbr_bins = min(100, xlim[1] - xlim[0])\n",
    "    #nbr_bins = (xlim[1] - xlim[0])\n",
    "    bins = np.linspace(xlim[0], xlim[1], nbr_bins / len(datas))\n",
    "    plt.figure(figsize=(10,5))\n",
    "    if normalize:\n",
    "        wheights = []\n",
    "        for d in data:\n",
    "            u, c = np.unique(d, return_counts=True)\n",
    "            wheights.append(np.ones(len(d)) / max(c))\n",
    "        plt.hist(data, bins, alpha=1.0, label=label, weights=wheights)\n",
    "    else:\n",
    "        plt.hist(data, bins, alpha=1.0, label=label)\n",
    "    plt.legend(loc='upper right')\n",
    "    if title is not None:\n",
    "        plt.title(title)\n",
    "    axes = plt.gca()\n",
    "    axes.set_xlim(xlim)\n",
    "\n",
    "def plot_all(corpora_path, data_fn, corpora, suffixes, xlim=(5,30), corpus_types=('', '_span', '_edges')):\n",
    "    datas = []\n",
    "    for i, corpus in enumerate(corpora):\n",
    "        #for corpus_type in ['', '_span', '_edges']:\n",
    "        for corpus_type in corpus_types:\n",
    "            corpus_name = '%s%s%s' % (corpus, corpus_type, suffixes[i])\n",
    "            fn = os.path.join(corpora_path, corpus_name, data_fn)\n",
    "            #print('load %s...' % fn)\n",
    "            data = load_all_np(fn)\n",
    "            if data is not None:\n",
    "                \n",
    "                u, c = np.unique(data, return_counts=True)\n",
    "                nbr_tokens_all = sum(u * c)\n",
    "                nbr_cut = np.sum(c[u > xlim[1]])\n",
    "                nbr_tokens_cut = xlim[1] * nbr_cut\n",
    "                nbr_tokens_not_cut = sum(c[u <= xlim[1]] * u[u <= xlim[1]])\n",
    "                #proportion_cut = nbr_cut / float(np.sum(c))\n",
    "                proportion_cut = (nbr_tokens_all - nbr_tokens_not_cut - nbr_tokens_cut) / float(nbr_tokens_all)\n",
    "                #print('%s: \\tnbr_tokens_all=%i\\tnbr_tokens_cut=%i\\tnbr_tokens_not_cut=%i' % (corpus_name, nbr_tokens_all, nbr_tokens_cut, nbr_tokens_not_cut))\n",
    "                print('%s: \\tproportion_cut=%.3f' % (corpus_name, proportion_cut))\n",
    "                #data_norm = data / float(max(data))\n",
    "                datas.append((data, corpus_name))\n",
    "    plot_multiple(datas, title=data_fn, xlim=xlim)"
   ]
  },
  {
   "cell_type": "code",
   "execution_count": 118,
   "metadata": {
    "collapsed": false
   },
   "outputs": [
    {
     "name": "stdout",
     "output_type": "stream",
     "text": [
      "SEMEVAL2010T8_RDF/corenlp_recemb_arg_mc2: \tproportion_cut=0.000\n",
      "TACRED_RDF/None_recemb_arg_mc20: \tproportion_cut=0.000\n",
      "SICK_RDF/corenlp_noner_recemb_mc2: \tproportion_cut=0.000\n"
     ]
    },
    {
     "data": {
      "image/png": "[encoded data removed]",
      "text/plain": [
       "<matplotlib.figure.Figure at 0x7f1230ce7c10>"
      ]
     },
     "metadata": {},
     "output_type": "display_data"
    }
   ],
   "source": [
    "plot_all(corpora_path=corpora_out + 'FINAL', data_fn='length', corpora=('SEMEVAL2010T8_RDF/corenlp_recemb_arg','TACRED_RDF/None_recemb_arg', 'SICK_RDF/corenlp_noner_recemb',), suffixes=('_mc2','_mc20', '_mc2', ), corpus_types=('',), xlim=(5,100))\n",
    "#plot_all(corpora_path=corpora_out + 'FINAL', data_fn='length', corpora=('SEMEVAL2010T8_RDF/corenlp_recemb_arg','SICK_RDF/corenlp_noner_recemb',), suffixes=('_mc2', '_mc2', ), corpus_types=('',), xlim=(5,40))"
   ]
  },
  {
   "cell_type": "code",
   "execution_count": 119,
   "metadata": {
    "collapsed": false,
    "scrolled": true
   },
   "outputs": [
    {
     "name": "stdout",
     "output_type": "stream",
     "text": [
      "IMDB_RDF/corenlp_noner_recemb_mc20: \tproportion_cut=0.092\n"
     ]
    },
    {
     "data": {
      "image/png": "[encoded data removed]",
      "text/plain": [
       "<matplotlib.figure.Figure at 0x7f12306412d0>"
      ]
     },
     "metadata": {},
     "output_type": "display_data"
    }
   ],
   "source": [
    "plot_all(corpora_path=corpora_out + 'FINAL', data_fn='length', corpora=('IMDB_RDF/corenlp_noner_recemb',), suffixes=('_mc20',), corpus_types=('',), xlim=(20,500))"
   ]
  },
  {
   "cell_type": "code",
   "execution_count": 120,
   "metadata": {
    "collapsed": false,
    "scrolled": true
   },
   "outputs": [
    {
     "name": "stdout",
     "output_type": "stream",
     "text": [
      "SEMEVAL2010T8_RDF/corenlp_recemb_arg_mc2: \tproportion_cut=0.000\n",
      "TACRED_RDF/None_recemb_arg_mc20: \tproportion_cut=0.001\n",
      "SICK_RDF/corenlp_noner_recemb_mc2: \tproportion_cut=0.000\n"
     ]
    },
    {
     "data": {
      "image/png": "[encoded data removed]",
      "text/plain": [
       "<matplotlib.figure.Figure at 0x7f1230d68cd0>"
      ]
     },
     "metadata": {},
     "output_type": "display_data"
    }
   ],
   "source": [
    "plot_all(corpora_path=corpora_out + 'FINAL', data_fn='depth', corpora=('SEMEVAL2010T8_RDF/corenlp_recemb_arg','TACRED_RDF/None_recemb_arg', 'SICK_RDF/corenlp_noner_recemb',), suffixes=('_mc2','_mc20', '_mc2', ), corpus_types=('',), xlim=(2,15))"
   ]
  },
  {
   "cell_type": "code",
   "execution_count": 126,
   "metadata": {
    "collapsed": false
   },
   "outputs": [
    {
     "name": "stdout",
     "output_type": "stream",
     "text": [
      "IMDB_RDF/corenlp_noner_recemb_mc20: \tproportion_cut=0.006\n"
     ]
    },
    {
     "data": {
      "image/png": "[encoded data removed]",
      "text/plain": [
       "<matplotlib.figure.Figure at 0x7f1230c33d50>"
      ]
     },
     "metadata": {},
     "output_type": "display_data"
    }
   ],
   "source": [
    "plot_all(corpora_path=corpora_out + 'FINAL', data_fn='depth', corpora=('IMDB_RDF/corenlp_noner_recemb',), suffixes=('_mc20',), corpus_types=('',), xlim=(7,30))"
   ]
  },
  {
   "cell_type": "code",
   "execution_count": 122,
   "metadata": {
    "collapsed": false
   },
   "outputs": [
    {
     "data": {
      "text/plain": [
       "19.088015680418145"
      ]
     },
     "execution_count": 122,
     "metadata": {},
     "output_type": "execute_result"
    }
   ],
   "source": [
    "#corp_path = '/mnt/DATA/ML/data/corpora_out/FINAL/TACRED_RDF/None_recemb_arg_mc20/length'\n",
    "#corp_path = '/mnt/DATA/ML/data/corpora_out/FINAL/IMDB_RDF/corenlp_noner_recemb_mc20/length'\n",
    "corp_path = '/mnt/DATA/ML/data/corpora_out/FINAL/SEMEVAL2010T8_RDF/corenlp_recemb_arg_mc2/length'\n",
    "lengths = load_all_np(corp_path)\n",
    "np.sum(lengths) / float(len(lengths))"
   ]
  },
  {
   "cell_type": "code",
   "execution_count": 21,
   "metadata": {
    "collapsed": false
   },
   "outputs": [
    {
     "data": {
      "text/plain": [
       "10714"
      ]
     },
     "execution_count": 21,
     "metadata": {},
     "output_type": "execute_result"
    }
   ],
   "source": [
    "len(lengths)"
   ]
  },
  {
   "cell_type": "code",
   "execution_count": 14,
   "metadata": {
    "collapsed": false
   },
   "outputs": [
    {
     "data": {
      "text/plain": [
       "36.389209892343594"
      ]
     },
     "execution_count": 14,
     "metadata": {},
     "output_type": "execute_result"
    }
   ],
   "source": [
    "np.sum(tacred_lengths) / float(len(tacred_lengths))"
   ]
  },
  {
   "cell_type": "code",
   "execution_count": null,
   "metadata": {
    "collapsed": true
   },
   "outputs": [],
   "source": []
  }
 ],
 "metadata": {
  "kernelspec": {
   "display_name": "Python [conda root]",
   "language": "python",
   "name": "conda-root-py"
  },
  "language_info": {
   "codemirror_mode": {
    "name": "ipython",
    "version": 2
   },
   "file_extension": ".py",
   "mimetype": "text/x-python",
   "name": "python",
   "nbconvert_exporter": "python",
   "pygments_lexer": "ipython2",
   "version": "2.7.12"
  }
 },
 "nbformat": 4,
 "nbformat_minor": 2
}
