{
 "cells": [
  {
   "cell_type": "code",
   "execution_count": 1,
   "metadata": {
    "collapsed": false
   },
   "outputs": [
    {
     "name": "stdout",
     "output_type": "stream",
     "text": [
      "/mnt/DATA/DEVELOPING/PycharmProjects/recursive-dependency-embedding\n"
     ]
    },
    {
     "data": {
      "text/html": [
       "<style>.container { width:100% !important; }</style>"
      ],
      "text/plain": [
       "<IPython.core.display.HTML object>"
      ]
     },
     "metadata": {},
     "output_type": "display_data"
    },
    {
     "name": "stderr",
     "output_type": "stream",
     "text": [
      "/home/arne/miniconda2/lib/python2.7/site-packages/IPython/core/interactiveshell.py:2881: FutureWarning: \n",
      "mpl_style had been deprecated and will be removed in a future version.\n",
      "Use `matplotlib.pyplot.style.use` instead.\n",
      "\n",
      "  exec(code_obj, self.user_global_ns, self.user_ns)\n"
     ]
    }
   ],
   "source": [
    "import os\n",
    "#os.chdir(os.path.abspath(os.path.join(__file__, os.pardir)))\n",
    "#os.chdir(os.path.dirname(os.path.realpath(__file__)))\n",
    "print(os.getcwd())\n",
    "from __future__ import print_function\n",
    "from IPython.core.display import display, HTML\n",
    "#display(HTML(\"<style>.container { width:100% !important; } .output_svg > div { width: 100% !important; height: 100% !important; }</style>\"))\n",
    "display(HTML(\"<style>.container { width:100% !important; }</style>\"))\n",
    "import pandas as pd\n",
    "import matplotlib.pyplot as plt\n",
    "pd.options.display.mpl_style = 'default'\n",
    "import corpus, preprocessing, visualize"
   ]
  },
  {
   "cell_type": "code",
   "execution_count": 2,
   "metadata": {
    "collapsed": false
   },
   "outputs": [
    {
     "data": {
      "text/plain": [
       "['/media/arne/WIN/Users/Arne/ML/data/corpora/debate_cluster/process_sentence3/HASAN_CMaggregate.train.0',\n",
       " '/media/arne/WIN/Users/Arne/ML/data/corpora/debate_cluster/process_sentence3/HASAN_CMaggregate.train.1',\n",
       " '/media/arne/WIN/Users/Arne/ML/data/corpora/debate_cluster/process_sentence3/HASAN_CMaggregate.train.2',\n",
       " '/media/arne/WIN/Users/Arne/ML/data/corpora/debate_cluster/process_sentence3/HASAN_CMaggregate.train.3',\n",
       " '/media/arne/WIN/Users/Arne/ML/data/corpora/debate_cluster/process_sentence3/HASAN_CMaggregate.train.4']"
      ]
     },
     "execution_count": 2,
     "metadata": {},
     "output_type": "execute_result"
    }
   ],
   "source": [
    "import fnmatch, ntpath\n",
    "#train_data_path = '/media/arne/WIN/Users/Arne/ML/data/corpora/sick/process_sentence3/SICK_CMaggregate'\n",
    "#train_data_path = '/media/arne/WIN/Users/Arne/ML/data/corpora/ppdb/process_sentence3_ns1/PPDB_CMaggregate'\n",
    "#train_data_path = '/media/arne/WIN/Users/Arne/ML/data/corpora/sick/process_sentence3/SICK_tt_CMaggregate'\n",
    "train_data_path = '/media/arne/WIN/Users/Arne/ML/data/corpora/debate_cluster/process_sentence3/HASAN_CMaggregate'\n",
    "parent_dir = os.path.abspath(os.path.join(train_data_path, os.pardir))\n",
    "train_fnames = fnmatch.filter(os.listdir(parent_dir), ntpath.basename(train_data_path) + '.train.*')\n",
    "train_fnames = [os.path.join(parent_dir, fn) for fn in train_fnames]\n",
    "train_fnames"
   ]
  },
  {
   "cell_type": "code",
   "execution_count": 3,
   "metadata": {
    "collapsed": false
   },
   "outputs": [],
   "source": [
    "import corpus\n",
    "types = corpus.read_types(train_data_path)"
   ]
  },
  {
   "cell_type": "code",
   "execution_count": 4,
   "metadata": {
    "collapsed": false
   },
   "outputs": [],
   "source": [
    "import train_fold, similarity_tree_tuple_pb2\n",
    "\n",
    "def data_iterator(filenames):\n",
    "    return train_fold.iterate_over_tf_record_protos(\n",
    "    filenames, similarity_tree_tuple_pb2.SimilarityTreeTuple, multiple_epochs=False)"
   ]
  },
  {
   "cell_type": "code",
   "execution_count": 5,
   "metadata": {
    "collapsed": true
   },
   "outputs": [],
   "source": [
    "from itertools import izip\n",
    "def get_sentence_from_dep_sequence_node(dep_sequence_node):\n",
    "    arrays = preprocessing.sequence_node_to_arrays(dep_sequence_node)\n",
    "    texts = visualize.get_text(arrays, types)\n",
    "    texts_pair = list(izip(*[iter(texts)]*2))\n",
    "    return [b for (a,b) in texts_pair]\n",
    "\n",
    "def get_child_ids_from_dep_sequence_node(dep_sequence_node):\n",
    "    return [child['head'] for child in dep_sequence_node['children']]"
   ]
  },
  {
   "cell_type": "code",
   "execution_count": 6,
   "metadata": {
    "collapsed": false
   },
   "outputs": [
    {
     "name": "stdout",
     "output_type": "stream",
     "text": [
      "load test data ...\n",
      "44988\n",
      "load train data ...\n",
      "179952\n"
     ]
    }
   ],
   "source": [
    "#train_iterator = data_iterator(train_fnames[:-1])\n",
    "train_iterator = data_iterator(train_fnames[:-1])\n",
    "test_iterator = data_iterator([train_fnames[-1]])\n",
    "\n",
    "print('load test data ...')\n",
    "#tuples_test = list(test_iterator)\n",
    "#print('convert test data ...')\n",
    "tuples_tokenids_test = [(get_child_ids_from_dep_sequence_node(similarity_tree_tuple['first']), get_child_ids_from_dep_sequence_node(similarity_tree_tuple['second']), similarity_tree_tuple['similarity']) for similarity_tree_tuple in test_iterator]\n",
    "print(str(len(tuples_tokenids_test)))\n",
    "print('load train data ...')\n",
    "#tuples_train = list(train_iterator)\n",
    "#print('convert train data ...')\n",
    "tuples_tokenids_train = [(get_child_ids_from_dep_sequence_node(similarity_tree_tuple['first']), get_child_ids_from_dep_sequence_node(similarity_tree_tuple['second']), similarity_tree_tuple['similarity']) for similarity_tree_tuple in train_iterator]\n",
    "print(str(len(tuples_tokenids_train)))"
   ]
  },
  {
   "cell_type": "code",
   "execution_count": 7,
   "metadata": {
    "collapsed": false
   },
   "outputs": [
    {
     "name": "stdout",
     "output_type": "stream",
     "text": [
      "convert train ids ...\n",
      "convert test ids ...\n"
     ]
    }
   ],
   "source": [
    "def ids_to_text(ids):\n",
    "    return ' '.join([types[i] for i in ids])\n",
    "\n",
    "print('convert train ids ...')\n",
    "texts_train = [(ids_to_text(ids1), ids_to_text(ids2), sim) for ids1, ids2, sim in tuples_tokenids_train]\n",
    "print('convert test ids ...')\n",
    "texts_test = [(ids_to_text(ids1), ids_to_text(ids2), sim) for ids1, ids2, sim in tuples_tokenids_test]"
   ]
  },
  {
   "cell_type": "code",
   "execution_count": 8,
   "metadata": {
    "collapsed": false
   },
   "outputs": [],
   "source": [
    "len_train = [len(ids1) + len(ids2) for ids1, ids2, sim in tuples_tokenids_train]\n",
    "len_test = [len(ids1) + len(ids2) for ids1, ids2, sim in tuples_tokenids_test]"
   ]
  },
  {
   "cell_type": "code",
   "execution_count": 9,
   "metadata": {
    "collapsed": false
   },
   "outputs": [
    {
     "data": {
      "text/plain": [
       "<matplotlib.axes._subplots.AxesSubplot at 0x7f394daf63d0>"
      ]
     },
     "execution_count": 9,
     "metadata": {},
     "output_type": "execute_result"
    },
    {
     "name": "stderr",
     "output_type": "stream",
     "text": [
      "/home/arne/miniconda2/lib/python2.7/site-packages/matplotlib/font_manager.py:1297: UserWarning: findfont: Font family [u'monospace'] not found. Falling back to DejaVu Sans\n",
      "  (prop.get_family(), self.defaultFamily[fontext]))\n"
     ]
    },
    {
     "data": {
      "image/png": "[encoded data removed]",
      "text/plain": [
       "<matplotlib.figure.Figure at 0x7f39dc2f5190>"
      ]
     },
     "metadata": {},
     "output_type": "display_data"
    }
   ],
   "source": [
    "#df_len = pd.DataFrame({'train': pd.Series(len_train), 'test': pd.Series(len_test)})\n",
    "#df_len.hist(bins=100, figsize=(32, 12))\n",
    "#f = plt.figure()\n",
    "s_len_train = pd.Series(len_train)\n",
    "s_len_test = pd.Series(len_test)\n",
    "s_len_train.plot(kind='hist', bins=100, figsize=(16, 12), label='train', alpha=0.5)\n",
    "s_len_test.plot(kind='hist', bins=100, figsize=(16, 12), label='test', alpha=0.5, secondary_y=True)"
   ]
  },
  {
   "cell_type": "code",
   "execution_count": 10,
   "metadata": {
    "collapsed": false
   },
   "outputs": [
    {
     "data": {
      "text/plain": [
       "count    179952.000000\n",
       "mean        259.679126\n",
       "std         165.722424\n",
       "min          12.000000\n",
       "25%         136.000000\n",
       "50%         213.000000\n",
       "75%         347.000000\n",
       "max        1236.000000\n",
       "dtype: float64"
      ]
     },
     "execution_count": 10,
     "metadata": {},
     "output_type": "execute_result"
    }
   ],
   "source": [
    "s_len_train.describe()"
   ]
  },
  {
   "cell_type": "code",
   "execution_count": 11,
   "metadata": {
    "collapsed": false
   },
   "outputs": [
    {
     "data": {
      "text/plain": [
       "count    44988.000000\n",
       "mean       259.126767\n",
       "std        164.503015\n",
       "min         18.000000\n",
       "25%        136.000000\n",
       "50%        212.500000\n",
       "75%        348.000000\n",
       "max       1400.000000\n",
       "dtype: float64"
      ]
     },
     "execution_count": 11,
     "metadata": {},
     "output_type": "execute_result"
    }
   ],
   "source": [
    "s_len_test.describe()"
   ]
  },
  {
   "cell_type": "code",
   "execution_count": 12,
   "metadata": {
    "collapsed": false
   },
   "outputs": [
    {
     "data": {
      "text/plain": [
       "<matplotlib.axes._subplots.AxesSubplot at 0x7f394d4f7190>"
      ]
     },
     "execution_count": 12,
     "metadata": {},
     "output_type": "execute_result"
    },
    {
     "data": {
      "image/png": "[encoded data removed]",
      "text/plain": [
       "<matplotlib.figure.Figure at 0x7f39d9276e50>"
      ]
     },
     "metadata": {},
     "output_type": "display_data"
    }
   ],
   "source": [
    "s_sims_train = pd.Series([sim for (_, _, sim) in tuples_tokenids_train])\n",
    "s_sims_test = pd.Series([sim for (_, _, sim) in tuples_tokenids_test])\n",
    "\n",
    "s_sims_train.plot(kind='hist',bins=100, figsize=(32, 12), alpha=0.5)\n",
    "s_sims_test.plot(kind='hist',bins=100, figsize=(32, 12), alpha=0.5, secondary_y=True)\n",
    "\n",
    "#df_sim = pd.DataFrame({'train': s_sims_train, 'test': s_sims_test})\n",
    "#df_sim.plot(kind='hist',bins=100, figsize=(16, 12))\n",
    "#df_sim.hist(bins=100, figsize=(32, 12))"
   ]
  },
  {
   "cell_type": "code",
   "execution_count": 13,
   "metadata": {
    "collapsed": false
   },
   "outputs": [
    {
     "data": {
      "text/plain": [
       "count    191532.000000\n",
       "mean          0.266356\n",
       "std           0.325929\n",
       "min           0.000000\n",
       "25%           0.000000\n",
       "50%           0.200000\n",
       "75%           0.500000\n",
       "max           1.000000\n",
       "dtype: float64"
      ]
     },
     "execution_count": 13,
     "metadata": {},
     "output_type": "execute_result"
    }
   ],
   "source": [
    "s_sims_train.describe()"
   ]
  },
  {
   "cell_type": "code",
   "execution_count": 14,
   "metadata": {
    "collapsed": false
   },
   "outputs": [
    {
     "data": {
      "text/plain": [
       "count    47883.000000\n",
       "mean         0.266069\n",
       "std          0.326349\n",
       "min          0.000000\n",
       "25%          0.000000\n",
       "50%          0.166667\n",
       "75%          0.500000\n",
       "max          1.000000\n",
       "dtype: float64"
      ]
     },
     "execution_count": 14,
     "metadata": {},
     "output_type": "execute_result"
    }
   ],
   "source": [
    "s_sims_test.describe()"
   ]
  },
  {
   "cell_type": "code",
   "execution_count": null,
   "metadata": {
    "collapsed": true
   },
   "outputs": [],
   "source": [
    "def print_stats(texts_train, texts_test):\n",
    "    train_sentences_first_unique = set([s1 for (s1, s2, sc) in texts_train])\n",
    "    train_sentences_second_unique = set([s2 for (s1, s2, sc) in texts_train])\n",
    "    print('train_sentences_first_unique:\\t'+str(len(train_sentences_first_unique)))\n",
    "    print('train_sentences_second_unique:\\t'+str(len(train_sentences_second_unique)))\n",
    "    train_sentences_unique = train_sentences_first_unique\n",
    "    train_sentences_unique.update(train_sentences_second_unique)\n",
    "    print('train_sentences_unique:\\t'+str(len(train_sentences_unique)))\n",
    "\n",
    "    train_tuple = [s1+s2 for (s1, s2, sc) in texts_train]\n",
    "    print('train_tuple duplicates: '+ str(len(train_tuple) - len(set(train_tuple))))\n",
    "    print('train_tuple unique: '+ str(len(set(train_tuple))))\n",
    "\n",
    "    test_sentences_first_unique = set([s1 for (s1, s2, sc) in texts_test])\n",
    "    test_sentences_second_unique = set([s2 for (s1, s2, sc) in texts_test])\n",
    "    print('test_sentences_first_unique:\\t'+str(len(test_sentences_first_unique)))\n",
    "    print('test_sentences_second_unique:\\t'+str(len(test_sentences_second_unique)))\n",
    "    test_sentences_unique = test_sentences_first_unique\n",
    "    test_sentences_unique.update(test_sentences_second_unique)\n",
    "    print('test_sentences_unique:\\t'+str(len(test_sentences_unique)))\n",
    "\n",
    "    test_tuple = [s1+s2 for (s1, s2, sc) in texts_test]\n",
    "    print('test_tuple duplicates: '+ str(len(test_tuple) - len(set(test_tuple))))\n",
    "    print('test_tuple unique: '+ str(len(set(test_tuple))))\n",
    "\n",
    "    sentences_unique = train_sentences_unique\n",
    "    sentences_unique.update(test_sentences_unique)\n",
    "    print('sentences_unique:\\t'+str(len(sentences_unique)))\n",
    "    \n",
    "    tuple_unique = set(train_tuple)\n",
    "    tuple_unique.update(set(test_tuple))\n",
    "    print('tuple unique: '+ str(len(tuple_unique)))\n",
    "    print('train/test tuple overlap: '+ str(len(set(train_tuple)) + len(set(test_tuple)) - len(tuple_unique)))"
   ]
  }
 ],
 "metadata": {
  "kernelspec": {
   "display_name": "Python [conda root]",
   "language": "python",
   "name": "conda-root-py"
  },
  "language_info": {
   "codemirror_mode": {
    "name": "ipython",
    "version": 2
   },
   "file_extension": ".py",
   "mimetype": "text/x-python",
   "name": "python",
   "nbconvert_exporter": "python",
   "pygments_lexer": "ipython2",
   "version": "2.7.12"
  }
 },
 "nbformat": 4,
 "nbformat_minor": 2
}
