{
 "cells": [
  {
   "cell_type": "code",
   "execution_count": 25,
   "metadata": {
    "collapsed": false
   },
   "outputs": [
    {
     "name": "stdout",
     "output_type": "stream",
     "text": [
      "/mnt/DATA/DEVELOPING/PycharmProjects/recursive-dependency-embedding\n"
     ]
    },
    {
     "data": {
      "text/html": [
       "<style>.container { width:100% !important; }</style>"
      ],
      "text/plain": [
       "<IPython.core.display.HTML object>"
      ]
     },
     "metadata": {},
     "output_type": "display_data"
    }
   ],
   "source": [
    "import os\n",
    "#os.chdir(os.path.abspath(os.path.join(__file__, os.pardir)))\n",
    "#os.chdir(os.path.dirname(os.path.realpath(__file__)))\n",
    "print(os.getcwd())\n",
    "from __future__ import print_function\n",
    "from IPython.core.display import display, HTML\n",
    "#display(HTML(\"<style>.container { width:100% !important; } .output_svg > div { width: 100% !important; height: 100% !important; }</style>\"))\n",
    "display(HTML(\"<style>.container { width:100% !important; }</style>\"))\n",
    "import pandas as pd\n",
    "import matplotlib.pyplot as plt\n",
    "pd.options.display.mpl_style = 'default'\n",
    "import corpus, preprocessing, visualize"
   ]
  },
  {
   "cell_type": "code",
   "execution_count": 26,
   "metadata": {
    "collapsed": false
   },
   "outputs": [
    {
     "name": "stdout",
     "output_type": "stream",
     "text": [
      "test file: /media/arne/WIN/Users/Arne/ML/data/corpora/debate_cluster/process_sentence9/HASAN_CMaggregate.train.1\n"
     ]
    },
    {
     "data": {
      "text/plain": [
       "['/media/arne/WIN/Users/Arne/ML/data/corpora/debate_cluster/process_sentence9/HASAN_CMaggregate.train.0']"
      ]
     },
     "execution_count": 26,
     "metadata": {},
     "output_type": "execute_result"
    }
   ],
   "source": [
    "import fnmatch, ntpath\n",
    "#train_data_path = '/media/arne/WIN/Users/Arne/ML/data/corpora/sick/process_sentence3/SICK_CMaggregate'\n",
    "#train_data_path = '/media/arne/WIN/Users/Arne/ML/data/corpora/ppdb/process_sentence3_ns1/PPDB_CMaggregate'\n",
    "#train_data_path = '/media/arne/WIN/Users/Arne/ML/data/corpora/sick/process_sentence3/SICK_tt_CMaggregate'\n",
    "#train_data_path = '/media/arne/WIN/Users/Arne/ML/data/corpora/debate_cluster/process_sentence3/HASAN_CMaggregate'\n",
    "train_data_path = '/media/arne/WIN/Users/Arne/ML/data/corpora/debate_cluster/process_sentence9/HASAN_CMaggregate'\n",
    "parent_dir = os.path.abspath(os.path.join(train_data_path, os.pardir))\n",
    "train_fnames = fnmatch.filter(os.listdir(parent_dir), ntpath.basename(train_data_path) + '.train.*')\n",
    "train_fnames = [os.path.join(parent_dir, fn) for fn in train_fnames]\n",
    "test_file_index = 1\n",
    "test_fname = train_fnames[test_file_index]\n",
    "del train_fnames[test_file_index] \n",
    "print('test file: '+ test_fname)\n",
    "train_fnames"
   ]
  },
  {
   "cell_type": "code",
   "execution_count": 27,
   "metadata": {
    "collapsed": false
   },
   "outputs": [],
   "source": [
    "import corpus\n",
    "types = corpus.read_types(train_data_path)"
   ]
  },
  {
   "cell_type": "code",
   "execution_count": 28,
   "metadata": {
    "collapsed": false
   },
   "outputs": [],
   "source": [
    "import train_fold, similarity_tree_tuple_pb2\n",
    "\n",
    "def data_iterator(filenames):\n",
    "    return train_fold.iterate_over_tf_record_protos(\n",
    "    filenames, similarity_tree_tuple_pb2.SimilarityTreeTuple, multiple_epochs=False)"
   ]
  },
  {
   "cell_type": "code",
   "execution_count": 29,
   "metadata": {
    "collapsed": true
   },
   "outputs": [],
   "source": [
    "from itertools import izip\n",
    "def get_sentence_from_dep_sequence_node(dep_sequence_node):\n",
    "    arrays = preprocessing.sequence_node_to_arrays(dep_sequence_node)\n",
    "    texts = visualize.get_text(arrays, types)\n",
    "    texts_pair = list(izip(*[iter(texts)]*2))\n",
    "    return [b for (a,b) in texts_pair]\n",
    "\n",
    "def get_child_ids_from_dep_sequence_node(dep_sequence_node):\n",
    "    return [child['head'] for child in dep_sequence_node['children']]"
   ]
  },
  {
   "cell_type": "code",
   "execution_count": 30,
   "metadata": {
    "collapsed": false
   },
   "outputs": [
    {
     "name": "stdout",
     "output_type": "stream",
     "text": [
      "load test data ...\n",
      "22503\n",
      "load train data ...\n",
      "22503\n"
     ]
    }
   ],
   "source": [
    "#train_iterator = data_iterator(train_fnames[:-1])\n",
    "train_iterator = data_iterator(train_fnames)\n",
    "test_iterator = data_iterator([test_fname])\n",
    "\n",
    "print('load test data ...')\n",
    "#tuples_test = list(test_iterator)\n",
    "#print('convert test data ...')\n",
    "tuples_tokenids_test = [(get_child_ids_from_dep_sequence_node(similarity_tree_tuple['first']), get_child_ids_from_dep_sequence_node(similarity_tree_tuple['second']), similarity_tree_tuple['similarity']) for similarity_tree_tuple in test_iterator]\n",
    "print(str(len(tuples_tokenids_test)))\n",
    "print('load train data ...')\n",
    "#tuples_train = list(train_iterator)\n",
    "#print('convert train data ...')\n",
    "tuples_tokenids_train = [(get_child_ids_from_dep_sequence_node(similarity_tree_tuple['first']), get_child_ids_from_dep_sequence_node(similarity_tree_tuple['second']), similarity_tree_tuple['similarity']) for similarity_tree_tuple in train_iterator]\n",
    "print(str(len(tuples_tokenids_train)))"
   ]
  },
  {
   "cell_type": "code",
   "execution_count": 31,
   "metadata": {
    "collapsed": false
   },
   "outputs": [
    {
     "name": "stdout",
     "output_type": "stream",
     "text": [
      "convert train ids ...\n",
      "convert test ids ...\n"
     ]
    },
    {
     "data": {
      "text/plain": [
       "[(u\"think ' useless talk dictionary definition marriage marriage be base love be important think be difference love people be different sex feeling affection be important UNKNOWN can judge other people love want get marry ' their own right\",\n",
       "  u'abortion be create person reason your ready raise kid put adoption can be good family do murder its wrong have life can have sex should be ready consequence tht come',\n",
       "  0.0),\n",
       " (u'be our right people be nothing constitution gay marriage can do sign ban gay marriage republican blue state veto would have allow gay marriage will let people vote note be fine be ban',\n",
       "  u'abortion be advise UNKNOWN new life new human live',\n",
       "  0.0),\n",
       " (u'UNKNOWN obama do thing say would do change economy want',\n",
       "  u\"be right wrong agree late time have abortion should be reduce stand week which be age baby can survive think ' dependent situation pregnancy child ' go be bring life poverty abuse be bloody miserable what kind existence be agree child have severe deformity disability instance rape religion rap child young have have give birth which be life baby mother discount thing ' woman choice what point do consider be kill human life can ask be embryo have UNKNOWN contraception my main concern anti abortionist be do consider problem populate one have abortion could imagine all extra people would be populate planet would be massive state poverty drastic see\",\n",
       "  0.0),\n",
       " (u\"have its own dna all system that isolate mother body do change fact ' part mother will amount anything ' detach do have say your view decide life be worthy life life be unworthy life can think what like week gestation fetus be person fact society may be able save its mother do make person ' enter personhood notion potential life all standard definition life ' alive have be potentiality be farce do know get your definition have functional self sustain biological system be attach life umbilical cord be go regard potential be do get arbitrary standard survival person hood ' arbitrary ' fact lot other people hold view make law help our life moment do need ban abortion co do do help your argument abortion equal murder be complete crap\",\n",
       "  u'fetus be bear be person UNKNOWN can live something hook life support be alive be alive be bear could be hazardous mother child',\n",
       "  0.5),\n",
       " (u'think obama good should be elect be amazing give good look UNKNOWN be be be amazing do like your UNKNOWN canadian would love have',\n",
       "  u\"' people president care american citizen\",\n",
       "  1.0),\n",
       " (u'be cluster cell be people who be self aware due mental disease be people who do feel pain UNKNOWN disorder disqualify humanity do disqualify be consider human do mean be person do possess essential characteristic personhood which be rationality autonomy self consciousness agree life death situation doctor have make call save mother baby be UNKNOWN happen case state abortion such unfortunate circumstance be right wrong issue be people be force have abortion issue be abortion be murder abortion be murder have problem should think legalization murder be ok one be force murder others contrary be issue would consider abortion murder seem think issue be UNKNOWN debate go talk legalisation murder use analogy apply murder rape theft other crime wo stop people do will allow law enforcement punish commit crime will help educate youth what be acceptable what be UNKNOWN my question be be abortion acceptable issue be moot fetus be individual human life should legalize murder make hazardous murderer rape be fault baby do anyone have right kill seem forget rape be fault victim be true can deny UNKNOWN be right make choice concern her own body be her fault first place',\n",
       "  u'should philosophy law law be consistent abortion be justify lack sapience could same argument be use justify such thing dumpster baby kill disabled people people UNKNOWN who do demonstrate sapience birth temporary period sleep will demonstrate sapience wake which would be same argument give state fetus will develop brain demonstrate sapience sleep your moment be similar kick fetus may have be UNKNOWN sapience exact definition sapience be need show fetus do have need be show sapience require enough develop brain fetus lack develop enough lack sapience what be be say define concept sapience same criterion be apply organism developed brain be problem sapience be active consciousness shut come various degree do problem amount anything someone come need my organ would be cause need my organ would be liable their situation mother majority cause be liable situation be create human UNKNOWN be distinct human person destroy combine complication seem be UNKNOWN question seem be more weather our law philosophy should be consistent be be principle utility be base such case should say allow abortion suit be allow philosophical system UNKNOWN decision',\n",
       "  0.0),\n",
       " (u'think have be great think important thing have do be make bit more human international scale',\n",
       "  u'negotiate deal UNKNOWN bank permit government gain access record tax UNKNOWN criminal UNKNOWN',\n",
       "  1.0),\n",
       " (u\"do think accord state marijuana smoker experience respiratory disturbance similar tobacco smoker include UNKNOWN lung UNKNOWN tobacco marijuana may increase risk heart attack due its ability raise blood pressure heart rate marijuana have show promise relieve pain increase appetite state further research should be carry UNKNOWN use marijuana medical purpose can person be happy be ill suffer happiness while will legalize cannabis what will be do think think our state will be developed country one will care can see country cannabis be legalize what be your position do think help your argument can help drug addicted people be happy ' funny\",\n",
       "  u\"' way could hav kid adoption what will laugh ' their problem should understand ppl hav free will exercise everyone be straight u UNKNOWN funny thing can UNKNOWN UNKNOWN UNKNOWN joke hav father UNKNOWN\",\n",
       "  0.0),\n",
       " (u'do forget life waste mandatory sentencing excessive jail time have ruin many young people life',\n",
       "  u'only health danger be tar which can be eliminate vaporizer legalization would open large market vaporizer increase demand increase competition bring price market expand part condition legalization government can provide tax break such such company decrease serious health risk improve economy purpose law be give much freedom people allow people neglect abuse others right what right be be threaten marijuana usage call hard drug can lead many social issue can be UNKNOWN show be part cause right violation have less correlation such thing few legal drug be prohibit',\n",
       "  0.3333333432674408),\n",
       " (u'who be prevent people do what want do have serious affect',\n",
       "  u'be UNKNOWN kill person man be create equal mother be person who would be UNKNOWN have unprotected sex do want child should have bear punishment should be able give child adoption',\n",
       "  0.0)]"
      ]
     },
     "execution_count": 31,
     "metadata": {},
     "output_type": "execute_result"
    }
   ],
   "source": [
    "def ids_to_text(ids):\n",
    "    return ' '.join([types[i] for i in ids])\n",
    "\n",
    "print('convert train ids ...')\n",
    "texts_train = [(ids_to_text(ids1), ids_to_text(ids2), sim) for ids1, ids2, sim in tuples_tokenids_train]\n",
    "print('convert test ids ...')\n",
    "texts_test = [(ids_to_text(ids1), ids_to_text(ids2), sim) for ids1, ids2, sim in tuples_tokenids_test]\n",
    "texts_test[:10]"
   ]
  },
  {
   "cell_type": "code",
   "execution_count": 32,
   "metadata": {
    "collapsed": false
   },
   "outputs": [],
   "source": [
    "import math\n",
    "def get_idfs(tuples):\n",
    "    counts = {}\n",
    "    for t in tuples:\n",
    "        for tok_id in list(set(t[0])) + list(set(t[1])):\n",
    "            c = counts.get(tok_id, 0)\n",
    "            counts[tok_id] = c + 1\n",
    "    result = {}\n",
    "    for k in counts:\n",
    "        result[k] = math.log(len(tuples)*2/counts[k])\n",
    "    return result\n",
    "\n",
    "idfs_test = get_idfs(tuples_tokenids_test)\n",
    "tfidfs_dict = {k:i for i, k in enumerate(sorted(idfs_test))}\n",
    "\n",
    "def get_tfidf(l, idfs):\n",
    "    counts = {}\n",
    "    for t in l:\n",
    "        c = counts.get(t, 0) + idfs[t] / len(l)\n",
    "        counts[t] = c\n",
    "    return counts\n",
    "\n",
    "\n",
    "tfidfs_test = [(get_tfidf(ids1, idfs_test), get_tfidf(ids2, idfs_test), sim) for ids1, ids2, sim in tuples_tokenids_test]\n"
   ]
  },
  {
   "cell_type": "code",
   "execution_count": 33,
   "metadata": {
    "collapsed": false
   },
   "outputs": [
    {
     "name": "stdout",
     "output_type": "stream",
     "text": [
      "(0.28794784590567984, 0.0)\n"
     ]
    },
    {
     "data": {
      "text/plain": [
       "0.14507716579600416"
      ]
     },
     "execution_count": 33,
     "metadata": {},
     "output_type": "execute_result"
    }
   ],
   "source": [
    "#from sklearn.feature_extraction import DictVectorizer\n",
    "import numpy as np\n",
    "from scipy.stats.stats import pearsonr\n",
    "\n",
    "def to_vec(v_d, trans):\n",
    "    result = np.zeros((len(trans),), dtype=float)\n",
    "    for k in v_d:\n",
    "        result[trans[k]] = v_d[k]\n",
    "    return result    \n",
    "\n",
    "def sim_tfidf(v1, v2):\n",
    "    return np.dot(v1, v2)/np.linalg.norm(v1)/np.linalg.norm(v2)\n",
    "\n",
    "tfidf_sim_test = np.array([sim_tfidf(to_vec(tfidf1, tfidfs_dict), to_vec(tfidf2, tfidfs_dict)) for tfidf1, tfidf2, sim in tfidfs_test])\n",
    "gold_sim_test = np.array([sim for tfidf1, tfidf2, sim in tfidfs_test])\n",
    "from scipy.stats.stats import pearsonr\n",
    "\n",
    "# Person's r\n",
    "print(pearsonr(tfidf_sim_test, gold_sim_test))\n",
    "# MSE\n",
    "np.square(tfidf_sim_test - gold_sim_test).mean()"
   ]
  },
  {
   "cell_type": "code",
   "execution_count": null,
   "metadata": {
    "collapsed": false
   },
   "outputs": [],
   "source": [
    "\n"
   ]
  },
  {
   "cell_type": "code",
   "execution_count": 17,
   "metadata": {
    "collapsed": false
   },
   "outputs": [
    {
     "data": {
      "text/plain": [
       "count    89940.000000\n",
       "mean       129.195430\n",
       "std        116.252154\n",
       "min          6.000000\n",
       "25%         47.000000\n",
       "50%         90.000000\n",
       "75%        163.000000\n",
       "max        700.000000\n",
       "dtype: float64"
      ]
     },
     "execution_count": 17,
     "metadata": {},
     "output_type": "execute_result"
    }
   ],
   "source": [
    "len_train = [len(ids1) + len(ids2) for ids1, ids2, sim in tuples_tokenids_train]\n",
    "len_test = [len(ids1) + len(ids2) for ids1, ids2, sim in tuples_tokenids_test]\n",
    "len_train_single = [len(ids1) for ids1, ids2, sim in tuples_tokenids_train] + [len(ids2) for ids1, ids2, sim in tuples_tokenids_train]\n",
    "len_test_single = [len(ids1) for ids1, ids2, sim in tuples_tokenids_test] + [len(ids2) for ids1, ids2, sim in tuples_tokenids_test]\n",
    "len_single = len_train_single + len_test_single\n",
    "s_len_single = pd.Series(len_single)\n",
    "s_len_single.describe()"
   ]
  },
  {
   "cell_type": "code",
   "execution_count": 19,
   "metadata": {
    "collapsed": false
   },
   "outputs": [
    {
     "data": {
      "text/plain": [
       "<matplotlib.axes._subplots.AxesSubplot at 0x7f6fde1a37d0>"
      ]
     },
     "execution_count": 19,
     "metadata": {},
     "output_type": "execute_result"
    },
    {
     "data": {
      "image/png": "[encoded data removed]",
      "text/plain": [
       "<matplotlib.figure.Figure at 0x7f7057c38b10>"
      ]
     },
     "metadata": {},
     "output_type": "display_data"
    }
   ],
   "source": [
    "s_len_single.plot(kind='hist', bins=100, figsize=(32, 12), label='train', alpha=0.5)"
   ]
  },
  {
   "cell_type": "code",
   "execution_count": 21,
   "metadata": {
    "collapsed": false
   },
   "outputs": [
    {
     "data": {
      "text/plain": [
       "<matplotlib.axes._subplots.AxesSubplot at 0x7f6fdd1a7590>"
      ]
     },
     "execution_count": 21,
     "metadata": {},
     "output_type": "execute_result"
    },
    {
     "data": {
      "image/png": "[encoded data removed]",
      "text/plain": [
       "<matplotlib.figure.Figure at 0x7f6fdd561cd0>"
      ]
     },
     "metadata": {},
     "output_type": "display_data"
    }
   ],
   "source": [
    "#df_len = pd.DataFrame({'train': pd.Series(len_train), 'test': pd.Series(len_test)})\n",
    "#df_len.hist(bins=100, figsize=(32, 12))\n",
    "#f = plt.figure()\n",
    "s_len_train = pd.Series(len_train)\n",
    "s_len_test = pd.Series(len_test)\n",
    "s_len_train.plot(kind='hist', bins=100, figsize=(16, 12), label='train', alpha=0.5)\n",
    "s_len_test.plot(kind='hist', bins=100, figsize=(16, 12), label='test', alpha=0.5, secondary_y=True)"
   ]
  },
  {
   "cell_type": "code",
   "execution_count": 22,
   "metadata": {
    "collapsed": false
   },
   "outputs": [
    {
     "data": {
      "text/plain": [
       "count    22485.000000\n",
       "mean       257.284412\n",
       "std        164.364773\n",
       "min         12.000000\n",
       "25%        135.000000\n",
       "50%        210.000000\n",
       "75%        346.000000\n",
       "max       1188.000000\n",
       "dtype: float64"
      ]
     },
     "execution_count": 22,
     "metadata": {},
     "output_type": "execute_result"
    }
   ],
   "source": [
    "s_len_train.describe()"
   ]
  },
  {
   "cell_type": "code",
   "execution_count": 23,
   "metadata": {
    "collapsed": false
   },
   "outputs": [
    {
     "data": {
      "text/plain": [
       "count    22485.000000\n",
       "mean       259.497309\n",
       "std        165.480533\n",
       "min         19.000000\n",
       "25%        136.000000\n",
       "50%        213.000000\n",
       "75%        346.000000\n",
       "max       1400.000000\n",
       "dtype: float64"
      ]
     },
     "execution_count": 23,
     "metadata": {},
     "output_type": "execute_result"
    }
   ],
   "source": [
    "s_len_test.describe()"
   ]
  },
  {
   "cell_type": "code",
   "execution_count": 24,
   "metadata": {
    "collapsed": false
   },
   "outputs": [
    {
     "data": {
      "text/plain": [
       "<matplotlib.axes._subplots.AxesSubplot at 0x7f6fdcbcf790>"
      ]
     },
     "execution_count": 24,
     "metadata": {},
     "output_type": "execute_result"
    },
    {
     "data": {
      "image/png": "[encoded data removed]",
      "text/plain": [
       "<matplotlib.figure.Figure at 0x7f6fdd5eea50>"
      ]
     },
     "metadata": {},
     "output_type": "display_data"
    }
   ],
   "source": [
    "s_sims_train = pd.Series([sim for (_, _, sim) in tuples_tokenids_train])\n",
    "s_sims_test = pd.Series([sim for (_, _, sim) in tuples_tokenids_test])\n",
    "\n",
    "s_sims_train.plot(kind='hist',bins=100, figsize=(32, 12), alpha=0.5)\n",
    "s_sims_test.plot(kind='hist',bins=100, figsize=(32, 12), alpha=0.5, secondary_y=True)\n",
    "\n",
    "#df_sim = pd.DataFrame({'train': s_sims_train, 'test': s_sims_test})\n",
    "#df_sim.plot(kind='hist',bins=100, figsize=(16, 12))\n",
    "#df_sim.hist(bins=100, figsize=(32, 12))"
   ]
  },
  {
   "cell_type": "code",
   "execution_count": 26,
   "metadata": {
    "collapsed": false
   },
   "outputs": [
    {
     "data": {
      "text/plain": [
       "count    22485.000000\n",
       "mean         0.266793\n",
       "std          0.326937\n",
       "min          0.000000\n",
       "25%          0.000000\n",
       "50%          0.166667\n",
       "75%          0.500000\n",
       "max          1.000000\n",
       "dtype: float64"
      ]
     },
     "execution_count": 26,
     "metadata": {},
     "output_type": "execute_result"
    }
   ],
   "source": [
    "s_sims_train.describe()"
   ]
  },
  {
   "cell_type": "code",
   "execution_count": 27,
   "metadata": {
    "collapsed": false
   },
   "outputs": [
    {
     "data": {
      "text/plain": [
       "count    22485.000000\n",
       "mean         0.266504\n",
       "std          0.327618\n",
       "min          0.000000\n",
       "25%          0.000000\n",
       "50%          0.166667\n",
       "75%          0.500000\n",
       "max          1.000000\n",
       "dtype: float64"
      ]
     },
     "execution_count": 27,
     "metadata": {},
     "output_type": "execute_result"
    }
   ],
   "source": [
    "s_sims_test.describe()"
   ]
  },
  {
   "cell_type": "code",
   "execution_count": null,
   "metadata": {
    "collapsed": true
   },
   "outputs": [],
   "source": [
    "def print_stats(texts_train, texts_test):\n",
    "    train_sentences_first_unique = set([s1 for (s1, s2, sc) in texts_train])\n",
    "    train_sentences_second_unique = set([s2 for (s1, s2, sc) in texts_train])\n",
    "    print('train_sentences_first_unique:\\t'+str(len(train_sentences_first_unique)))\n",
    "    print('train_sentences_second_unique:\\t'+str(len(train_sentences_second_unique)))\n",
    "    train_sentences_unique = train_sentences_first_unique\n",
    "    train_sentences_unique.update(train_sentences_second_unique)\n",
    "    print('train_sentences_unique:\\t'+str(len(train_sentences_unique)))\n",
    "\n",
    "    train_tuple = [s1+s2 for (s1, s2, sc) in texts_train]\n",
    "    print('train_tuple duplicates: '+ str(len(train_tuple) - len(set(train_tuple))))\n",
    "    print('train_tuple unique: '+ str(len(set(train_tuple))))\n",
    "\n",
    "    test_sentences_first_unique = set([s1 for (s1, s2, sc) in texts_test])\n",
    "    test_sentences_second_unique = set([s2 for (s1, s2, sc) in texts_test])\n",
    "    print('test_sentences_first_unique:\\t'+str(len(test_sentences_first_unique)))\n",
    "    print('test_sentences_second_unique:\\t'+str(len(test_sentences_second_unique)))\n",
    "    test_sentences_unique = test_sentences_first_unique\n",
    "    test_sentences_unique.update(test_sentences_second_unique)\n",
    "    print('test_sentences_unique:\\t'+str(len(test_sentences_unique)))\n",
    "\n",
    "    test_tuple = [s1+s2 for (s1, s2, sc) in texts_test]\n",
    "    print('test_tuple duplicates: '+ str(len(test_tuple) - len(set(test_tuple))))\n",
    "    print('test_tuple unique: '+ str(len(set(test_tuple))))\n",
    "\n",
    "    sentences_unique = train_sentences_unique\n",
    "    sentences_unique.update(test_sentences_unique)\n",
    "    print('sentences_unique:\\t'+str(len(sentences_unique)))\n",
    "    \n",
    "    tuple_unique = set(train_tuple)\n",
    "    tuple_unique.update(set(test_tuple))\n",
    "    print('tuple unique: '+ str(len(tuple_unique)))\n",
    "    print('train/test tuple overlap: '+ str(len(set(train_tuple)) + len(set(test_tuple)) - len(tuple_unique)))"
   ]
  }
 ],
 "metadata": {
  "kernelspec": {
   "display_name": "Python [conda root]",
   "language": "python",
   "name": "conda-root-py"
  },
  "language_info": {
   "codemirror_mode": {
    "name": "ipython",
    "version": 2
   },
   "file_extension": ".py",
   "mimetype": "text/x-python",
   "name": "python",
   "nbconvert_exporter": "python",
   "pygments_lexer": "ipython2",
   "version": "2.7.12"
  }
 },
 "nbformat": 4,
 "nbformat_minor": 2
}
