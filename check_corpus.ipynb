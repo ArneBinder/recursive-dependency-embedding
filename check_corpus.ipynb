{
 "cells": [
  {
   "cell_type": "code",
   "execution_count": 1,
   "metadata": {
    "collapsed": false
   },
   "outputs": [
    {
     "name": "stdout",
     "output_type": "stream",
     "text": [
      "/mnt/DATA/DEVELOPING/PycharmProjects/recursive-dependency-embedding\n"
     ]
    },
    {
     "data": {
      "text/html": [
       "<style>.container { width:100% !important; }</style>"
      ],
      "text/plain": [
       "<IPython.core.display.HTML object>"
      ]
     },
     "metadata": {},
     "output_type": "display_data"
    },
    {
     "name": "stderr",
     "output_type": "stream",
     "text": [
      "/home/arne/miniconda2/lib/python2.7/site-packages/IPython/core/interactiveshell.py:2881: FutureWarning: \n",
      "mpl_style had been deprecated and will be removed in a future version.\n",
      "Use `matplotlib.pyplot.style.use` instead.\n",
      "\n",
      "  exec(code_obj, self.user_global_ns, self.user_ns)\n"
     ]
    }
   ],
   "source": [
    "import os\n",
    "#os.chdir(os.path.abspath(os.path.join(__file__, os.pardir)))\n",
    "#os.chdir(os.path.dirname(os.path.realpath(__file__)))\n",
    "print(os.getcwd())\n",
    "from __future__ import print_function\n",
    "from IPython.core.display import display, HTML\n",
    "#display(HTML(\"<style>.container { width:100% !important; } .output_svg > div { width: 100% !important; height: 100% !important; }</style>\"))\n",
    "display(HTML(\"<style>.container { width:100% !important; }</style>\"))\n",
    "import pandas as pd\n",
    "import matplotlib.pyplot as plt\n",
    "pd.options.display.mpl_style = 'default'\n",
    "import corpus, preprocessing, visualize"
   ]
  },
  {
   "cell_type": "code",
   "execution_count": 2,
   "metadata": {
    "collapsed": false
   },
   "outputs": [
    {
     "name": "stdout",
     "output_type": "stream",
     "text": [
      "test file: /media/arne/WIN/Users/Arne/ML/data/corpora/debate_cluster/process_sentence3/HASAN_CMaggregate_NEGSAMPLES0.train.1\n"
     ]
    },
    {
     "data": {
      "text/plain": [
       "['/media/arne/WIN/Users/Arne/ML/data/corpora/debate_cluster/process_sentence3/HASAN_CMaggregate_NEGSAMPLES0.train.0']"
      ]
     },
     "execution_count": 2,
     "metadata": {},
     "output_type": "execute_result"
    }
   ],
   "source": [
    "import fnmatch, ntpath\n",
    "#train_data_path = '/media/arne/WIN/Users/Arne/ML/data/corpora/sick/process_sentence3/SICK_CMaggregate'\n",
    "#train_data_path = '/media/arne/WIN/Users/Arne/ML/data/corpora/ppdb/process_sentence3_ns1/PPDB_CMaggregate'\n",
    "#train_data_path = '/media/arne/WIN/Users/Arne/ML/data/corpora/sick/process_sentence3/SICK_tt_CMaggregate'\n",
    "train_data_path = '/media/arne/WIN/Users/Arne/ML/data/corpora/debate_cluster/process_sentence3/HASAN_CMaggregate_NEGSAMPLES0'\n",
    "#train_data_path = '/media/arne/WIN/Users/Arne/ML/data/corpora/debate_cluster/process_sentence9/HASAN_CMaggregate'\n",
    "#train_data_path = '/media/arne/WIN/Users/Arne/ML/data/corpora/sick/process_sentence9_ADJNOUN_orth/SICK_tt_CMaggregate'\n",
    "parent_dir = os.path.abspath(os.path.join(train_data_path, os.pardir))\n",
    "train_fnames = fnmatch.filter(os.listdir(parent_dir), ntpath.basename(train_data_path) + '.train.*')\n",
    "train_fnames = [os.path.join(parent_dir, fn) for fn in train_fnames]\n",
    "test_file_index = 1\n",
    "test_fname = train_fnames[test_file_index]\n",
    "del train_fnames[test_file_index] \n",
    "print('test file: '+ test_fname)\n",
    "train_fnames"
   ]
  },
  {
   "cell_type": "code",
   "execution_count": 3,
   "metadata": {
    "collapsed": false
   },
   "outputs": [],
   "source": [
    "import corpus\n",
    "types = corpus.read_types(train_data_path)"
   ]
  },
  {
   "cell_type": "code",
   "execution_count": 4,
   "metadata": {
    "collapsed": false
   },
   "outputs": [],
   "source": [
    "import train_fold, similarity_tree_tuple_pb2\n",
    "\n",
    "def data_iterator(filenames):\n",
    "    return train_fold.iterate_over_tf_record_protos(\n",
    "    filenames, similarity_tree_tuple_pb2.SimilarityTreeTuple, multiple_epochs=False)"
   ]
  },
  {
   "cell_type": "code",
   "execution_count": 5,
   "metadata": {
    "collapsed": true
   },
   "outputs": [],
   "source": [
    "from itertools import izip\n",
    "def get_sentence_from_dep_sequence_node(dep_sequence_node):\n",
    "    arrays = preprocessing.sequence_node_to_arrays(dep_sequence_node)\n",
    "    texts = visualize.get_text(arrays, types)\n",
    "    texts_pair = list(izip(*[iter(texts)]*2))\n",
    "    return [b for (a,b) in texts_pair]\n",
    "\n",
    "def get_child_ids_from_dep_sequence_node(dep_sequence_node):\n",
    "    return [child['head'] for child in dep_sequence_node['children']]"
   ]
  },
  {
   "cell_type": "code",
   "execution_count": 6,
   "metadata": {
    "collapsed": false
   },
   "outputs": [
    {
     "name": "stdout",
     "output_type": "stream",
     "text": [
      "load test data ...\n",
      "11542\n",
      "load train data ...\n",
      "11542\n"
     ]
    }
   ],
   "source": [
    "#train_iterator = data_iterator(train_fnames[:-1])\n",
    "train_iterator = data_iterator(train_fnames)\n",
    "test_iterator = data_iterator([test_fname])\n",
    "\n",
    "print('load test data ...')\n",
    "#tuples_test = list(test_iterator)\n",
    "#print('convert test data ...')\n",
    "tuples_tokenids_test = [(get_child_ids_from_dep_sequence_node(similarity_tree_tuple['first']), get_child_ids_from_dep_sequence_node(similarity_tree_tuple['second']), similarity_tree_tuple['similarity']) for similarity_tree_tuple in test_iterator]\n",
    "print(str(len(tuples_tokenids_test)))\n",
    "print('load train data ...')\n",
    "#tuples_train = list(train_iterator)\n",
    "#print('convert train data ...')\n",
    "tuples_tokenids_train = [(get_child_ids_from_dep_sequence_node(similarity_tree_tuple['first']), get_child_ids_from_dep_sequence_node(similarity_tree_tuple['second']), similarity_tree_tuple['similarity']) for similarity_tree_tuple in train_iterator]\n",
    "print(str(len(tuples_tokenids_train)))"
   ]
  },
  {
   "cell_type": "code",
   "execution_count": 7,
   "metadata": {
    "collapsed": false
   },
   "outputs": [
    {
     "name": "stdout",
     "output_type": "stream",
     "text": [
      "convert train ids ...\n",
      "convert test ids ...\n"
     ]
    },
    {
     "data": {
      "text/plain": [
       "[(u'True however , we were all a fetus at one time , therefore , it is the beginning of life . A life that many families are dieing to take care of because they can not have children of their own .',\n",
       "  u'But it is going to be life most people regret having abortion . Just because it is not completely formed does not mean it is alive . Why is it not okay to murder a kid at lets say 12 but its okay to kill a baby before it is even born ?',\n",
       "  0.5),\n",
       " (u\"Why am I a fool for thinking that ?    Because you are calling an entire group of people immoral for no other reason then that they are attracted to people of the same sex .   Because you do n't recognize that romantic love can exist outside of a heterosexual woman , and man .   Because you believe , without any actual basis , that homosexual parents are incapable of raising a child correctly .   Because when I ask you   why   these act are immoral , your only response is to quote a bible verse .   And most importantly you allow these baseless views to interfere with other American 's pursuit of happiness by denying them rights .\",\n",
       "  u\"Since a ritual that binds two people together as life - mates has absolutely no harmful effect upon society , and since romantic love is regarded as a good thing , I 'd like to know why disallowing gay marriage is a good thing .   If it 's not harmful , why outlaw it ? Because you 're squeamish ? So , you 'd let your squeamishness prevent two people from performing a ritual that harms no one and only UNKNOWN their relationship ? What kind of immoral UNKNOWN are you to allow mere squeamishness to let you do something so selfish ?   Except , of course , people against gay marriage would say I 'm wrong . Though I 'm not . They are all just squeamish , and they use pointless excuses to try and reason away that they 're just squeamish . But really , they 're all just pointless excuses for you to justify your selfish behavior of wanting to stop people from loving each other to their fullest potential .   UNKNOWN on you .\",\n",
       "  0.25),\n",
       " (u\"I strongly believe that Obama should be given a second term . Since Obama has been in power , he has been trying his best to make certain achievements . We all know , that in the state that our UNKNOWN is , it will not take weeks or months but possibly years to fix or embetter and for this reason , we should give him another chance since his leadership has UNKNOWN many presidential achievements . We tend to blame him for not trying his best to embetter the economy but what we are failing to understand is the fact that this is his first term in office and the economy is not something you can fix in a second , it is a critical aspect that requires careful thought , planning , analysis and actions which can take several years . It is also through President Obama and his supporters that the health care bill , legislation to curb green house UNKNOWN and improve the environment passes , preventing a second great depression by saving three large car UNKNOWN from going out of business and which would have possibly leave hundreds or thousands without jobs , and also passed the largest economic stimulus bill , bringing the war in Iraq to an end , thus saving the economy a lot of money and innocent lives from being taken , nuclear non - UNKNOWN movement , UNKNOWN our image abroad , UNKNOWN George Bush 's ban on federal funding to foreign organizations that allows abortion , lifted Bush 's ban on embryonic stem cell research , UNKNOWN of education system reform , tobacco regulation , financial industry UNKNOWN , UNKNOWN two Supreme Court Justices . These are the presidential accomplishments UNKNOWN by Obama and these are proof that the president is determined to fullfill his UNKNOWN he had first made to the nation . Now , it is our turn to give him the chance he need to do so and give him some more time .\",\n",
       "  u'Yes , I feel it could happen ... but that is just me . If everyone was UNKNOWN a little weed at the same time , we UNKNOWN UNKNOWN solve world peace and add the the hunger problem around the planet .',\n",
       "  0.1666666716337204),\n",
       " (u'Just because he can not pass any new laws does not mean he can not enforce the ones that are already on the book .   Must of these laws that you want him to enforce are bull shit . When he tries to make laws that will be better , the Republicans block any sort of progress .   \" He did , that \\'s why it is on my list of ways Obama = Bush . \"   Let me restate that in UNKNOWN Bush \\'s response was worse then Obama \\'s , Bush was told by the UNKNOWN of UNKNOWN as well as the Mayor of New Orleans that the leevees would not hold prior to Katrina but did nothing , it hit New Orleans on UNKNOWN and Bush UNKNOWN the UNKNOWN area on UNKNOWN Force One as he traveled from Texas back to Washington , UNKNOWN on UNKNOWN and was n\\'t UNKNOWN about the situation until he UNKNOWN at the UNKNOWN UNKNOWN on Friday . That s a week of doing nothing even though he had already been told prior to Katrina that the leevees would not hold .   The oil spill that is occuring right now however was not UNKNOWN and Obama was told by UNKNOWN that it was not a serious problem and was n\\'t told that the UNKNOWN was in fact serious until almost a week later .   Bottom UNKNOWN : Obama did n\\'t know , Bush did n\\'t even care .   \" Actually , Bush was the one who passed the first bail outs and in 2003 he tried to regulate Fanny and Freddie but the Democrats blocked him . \"   The recession started around December of 2007 so Bush \\'s bail outs did n\\'t do shit . As for the Democrats UNKNOWN Bush from Fanny and Freddie , the Republicans are doing the same thing now with Wall Street .',\n",
       "  u'If anything is for sure , it is that Obama is giving it his all .   I feel that people are as a whole being harsh on a man that took the UNKNOWN as the roller coaster only reached the peak .   My money is on another four years .',\n",
       "  1.0),\n",
       " (u'No alcohol does not just cause brain damage in minors . Thank you for the lesson in high school biology though .    UNKNOWN UNKNOWN      UNKNOWN UNKNOWN      UNKNOWN UNKNOWN UNKNOWN     UNKNOWN alcohol abuse actually kills brain cells .    \" The only difference is that marijuana smoke has way more carbon monoxide . Inhaling this will limit the amount of oxygen that can go to your brain and can kill brain cells if they do not get enough oxygen . It could also cause other parts of the body to not get enough oxygen , like the muscles and the heart . \"    Marijuana smoke does not kill brain cells . It does not lead to cerebral hypoxia .    \" This is why when people are high , they slow down . \"    No first of all that is not why people \" slow down . \" Your heart rate actually increases from ingesting THC . Once again you demonstrate how little you know about this .   You are trying to reference the fact that correlation does not prove causation . While they may have never proven 100% that if you smoke you will very likely get cancer , UNKNOWN studies on humans have shown an incredibly strong link between smoking cigarettes and developing cancer . This is good enough proof for medicine .   But marijuana does not harm your blood vessels . Find me a source that says it does .',\n",
       "  u'Yes . In comparison to those substances which we allow ( alcohol and tobacco being the two most obvious ) it is really no worse . It is far less potentially addictive than the other two , does not appear to have nearly as many physical UNKNOWN associated with it as tobacco or heavy alcohol use , and is much less likely to UNKNOWN violence than alcohol . Some argue that this marijuana is a gateway drug . They forget that many people who use other drugs also began drinking first . The reason further drug UNKNOWN is more likely to occur with pot use than with alcohol is not because pot \" leads one to search for a better high \" ( otherwise we should expect similar results with alcohol , as it is more \" UNKNOWN \" than harder drugs ) but is almost certainly because one is legal and the other is not . Legalization also increases the amount of information health agencies can get about its use and make it more likely for heavy users to get treatment . And it is simply ludicrous for our already strained prison and court systems to have to process people for possession and distribution of a substance that is roughly equivalent to substances we accept . And arguably the best point : we could stop using taxpayer money to crack down on dealers and instead tax pot sales via UNKNOWN distributors . This is a particularly UNKNOWN point given our government \\'s deficit .',\n",
       "  0.25),\n",
       " (u\"He 's not the worst president in US history . Jimmy Carter probably takes the wrap on that one .   Obama and Bush have expanded the powers of Federal government the most since UNKNOWN . The national debt has increased more under Obama than any other president , and if the Supreme Court does n't rule Obamacare unconstitutional , the national debt will exceed anything anyone could have UNKNOWN of in the UNKNOWN .   So I 'm very much against the Obama administration , but I would n't consider him technically the UNKNOWN .\",\n",
       "  u\"Whether it kills people or not , it still is harmful to your body . UNKNOWN smoke is not good for you . To say something should be made legal because it is less harmful or because it does n't KILL someone is ridiculous .\",\n",
       "  0.5),\n",
       " (u\"Yes and that has nothing to do with civil unions .    Civil rights do n't have anything to do with segregation ?\",\n",
       "  u'1 . You really spelled UNKNOWN wrong .   2 . Saying \" fags \" is rude and UNKNOWN .   3 . By saying that everyone who voted \" yes \" is a homosexual , you are being ignorant to the world around you . I myself am not gay , but I do have friends and family who are . There is no difference between heterosexuals and homosexuals besides the gender of the person that they love . And if God did create all , then why did he create homosexuals ? I \\'m sorry that you are to arrogant to realize this .',\n",
       "  0.5),\n",
       " (u'Gays are constantly in your face sticking their sins into your face . Justifying their sins . Making others accept their sins . Legalizing their sins . Trying to make gay marriage and then legalise it etc .    Are they ? I do n\\'t find that at all . Has a gay stuck his sin in your face ? oh how telling .    If there was n\\'t any of that bullshit ... with men sitting on each others laps in public etc . I do n\\'t think I \\'d say a word and let them be . Instead they \\'re trying to get me and other people to allow them into our daily lives .    So because they do things that you do n\\'t like and they are not hurting you or anyone at all , you feel obligated to label them and protest against their rights to be happy . \" Me thinks the lady does protest too much \" if you know what I mean , their is a bit too much frequency in your protest when talking about homosexuals , which would lead to the UNKNOWN that you are a closet homosexual .   Anything you would like to UNKNOWN ?   I think you would feel much better for it .    Lmao wut ? ? ? ?    Peodophobe , fear of children or dolls , genius .    Anyway cockmuncher ...   ..... you \\'re gay .    That is news to me , I am sure my wife will be upset when she UNKNOWN it . How should I tell her ? I am sure you have prepared your coming out speech , any UNKNOWN ? You can label me all you want , it only makes you more of a bigot .    The link you posted ?   Kind of bullshit . Ever watched Scrottie Mcboogerballs ? South Park where it shows how people read into things that are n\\'t there ?    Like UNKNOWN religious scriptures of all kinds are open to interpretation , it is telling that some one such as your self will disregard teachings in favor of their own personal views , oh and I do agree with you on the South Park example all religious UNKNOWN are misread generally because they are filled to the UNKNOWN with bullshit and any UNKNOWN with a UNKNOWN for justifying his own immoral stance quote mines from UNKNOWN then sets about ruining the lives of innocent people .',\n",
       "  u'Yes of course it should   No majority ever has the right to decide the life of a minority , which does no harm to anyone   It was that logic , which cause the slave trade and while you still decide how others should live then they are slaves   \" Why do n\\'t you try and use the art of UNKNOWN to convince my that a lifestyle that causes early death ( @45yrs of age ) high rates of infectious diseases , depression and suicide is really a good thing . And that it is some how the more loving thing to do to let someone destroy their life . \"   - Find one single gay person over UNKNOWN should be impossible then ?   - straight people can catch those same diseases , they just have better access to healthcare without being discriminated against   - depression and suicide again cause by discrimination and the struggle to accept yourself as different in a world with so many UNKNOWN and small minded people   - The above quote was wrote by a clearly retarded person who would have owned a slave , voted against UNKNOWN and black peoples rights and ca n\\'t see that being gay is not a disease , it is natural and present in over 500 species   Gay marriage would not and can not harm straight marriage   It is proven that gay marriages are more stable and that the most suitable family environment is UNKNOWN with two lesbian mothers   If anything harms marriage it is straight people like UNKNOWN UNKNOWN and people who pass their prejudice onto their kids',\n",
       "  0.3333333432674408),\n",
       " (u'You may be right ... but that \\'s your belief , and you do n\\'t have the right to UNKNOWN your belief on someone else . I have the right to go to work , put in my 8 hours , then go home and smoke it up , play with my kids , watch tv , or whatever else I wanna do that does n\\'t infringe on anyone elses rights . If I \\'m happy doing that , then who are you ( or anyone else ) to tell me I \\'m wrong ? That is not just the \" american dream \" ; that is the freedom that we fought for .',\n",
       "  u\"A women should be able to choose what happens with her body , especially concerning abortion and babies .   Not because I support abortion , but what if you were the child of a mom ?   What if that mom only had you grudgingly because she was forced to have you , abortions being outlawed ?   Would you really want to grow up unloved ? A child who 's own mother would have aborted you ?    Worse than an accident , you are a person whom the people you are supposed to love , and are supposed to love you would rather have had you dead than given birth to you .   In reality , it 's not that bad , but forcing a mother to give birth to an unwanted child is cruel , and with the human population this high , with plenty of orphans already , why make more ? Why go to the trouble and the pain for the mother , and the child , the entire family , and the whole world , when abortion could be an option ?   I support safe sex and planned pregnancy , I think abortion is murder , as is war or any human killing another human , but killing does happen . Every time you eat , you are eating something that was killed , plant or animal .   If it reduces pain in the world , then you should be able to abort .\",\n",
       "  0.5),\n",
       " (u'I think so on UNKNOWN , I do nt have a need for it , i do nt drink .. but the Government allows the sale of many items that can kill us , Legalize it and tax , like they do everything else .. it ..',\n",
       "  u'The only health danger is the tar , which can be practically eliminated with vaporizers ; legalization would open up a larger market for vaporizers , increasing demand , increasing competition and bringing prices down so that the market expands even more . Also as part of the condition for legalization the government can provide tax breaks and such for such companies , to decrease the only serious health risk and to improve the economy .    If the purpose of a law is to give as much freedom to people without allowing those people to neglect or abuse others rights , then what right is being threatened by marijuana usage ? So called \" hard drugs \" can lead to many social issues and can actually be directly UNKNOWN , and scientifically shown to be part of the cause of right violations . Marijuana has less correlation to such things then the few currently legal drugs . Marijuana is unjustly prohibited .',\n",
       "  0.25)]"
      ]
     },
     "execution_count": 7,
     "metadata": {},
     "output_type": "execute_result"
    }
   ],
   "source": [
    "def ids_to_text(ids):\n",
    "    return ' '.join([types[i] for i in ids])\n",
    "\n",
    "print('convert train ids ...')\n",
    "texts_train = [(ids_to_text(ids1), ids_to_text(ids2), sim) for ids1, ids2, sim in tuples_tokenids_train]\n",
    "print('convert test ids ...')\n",
    "texts_test = [(ids_to_text(ids1), ids_to_text(ids2), sim) for ids1, ids2, sim in tuples_tokenids_test]\n",
    "texts_test[:10]"
   ]
  },
  {
   "cell_type": "code",
   "execution_count": 8,
   "metadata": {
    "collapsed": false
   },
   "outputs": [],
   "source": [
    "import math\n",
    "def get_idfs(tuples):\n",
    "    counts = {}\n",
    "    for t in tuples:\n",
    "        for tok_id in list(set(t[0])) + list(set(t[1])):\n",
    "            c = counts.get(tok_id, 0)\n",
    "            counts[tok_id] = c + 1\n",
    "    result = {}\n",
    "    for k in counts:\n",
    "        result[k] = math.log(len(tuples)*2/counts[k])\n",
    "    return result\n",
    "\n",
    "idfs_test = get_idfs(tuples_tokenids_test)\n",
    "tfidfs_dict = {k:i for i, k in enumerate(sorted(idfs_test))}\n",
    "\n",
    "def get_tfidf(l, idfs):\n",
    "    counts = {}\n",
    "    for t in l:\n",
    "        c = counts.get(t, 0) + idfs[t] / len(l)\n",
    "        counts[t] = c\n",
    "    return counts\n",
    "\n",
    "\n",
    "tfidfs_test = [(get_tfidf(ids1, idfs_test), get_tfidf(ids2, idfs_test), sim) for ids1, ids2, sim in tuples_tokenids_test]\n"
   ]
  },
  {
   "cell_type": "code",
   "execution_count": 9,
   "metadata": {
    "collapsed": false
   },
   "outputs": [
    {
     "name": "stdout",
     "output_type": "stream",
     "text": [
      "(0.17357410798581185, 9.384843914328314e-79)\n"
     ]
    },
    {
     "data": {
      "text/plain": [
       "0.29132352635176334"
      ]
     },
     "execution_count": 9,
     "metadata": {},
     "output_type": "execute_result"
    }
   ],
   "source": [
    "#from sklearn.feature_extraction import DictVectorizer\n",
    "import numpy as np\n",
    "from scipy.stats.stats import pearsonr\n",
    "\n",
    "def to_vec(v_d, trans):\n",
    "    result = np.zeros((len(trans),), dtype=float)\n",
    "    for k in v_d:\n",
    "        result[trans[k]] = v_d[k]\n",
    "    return result    \n",
    "\n",
    "def sim_tfidf(v1, v2):\n",
    "    return np.dot(v1, v2)/np.linalg.norm(v1)/np.linalg.norm(v2)\n",
    "\n",
    "tfidf_sim_test = np.array([sim_tfidf(to_vec(tfidf1, tfidfs_dict), to_vec(tfidf2, tfidfs_dict)) for tfidf1, tfidf2, sim in tfidfs_test])\n",
    "gold_sim_test = np.array([sim for tfidf1, tfidf2, sim in tfidfs_test])\n",
    "from scipy.stats.stats import pearsonr\n",
    "\n",
    "# Person's r\n",
    "print(pearsonr(tfidf_sim_test, gold_sim_test))\n",
    "# MSE\n",
    "np.square(tfidf_sim_test - gold_sim_test).mean()"
   ]
  },
  {
   "cell_type": "code",
   "execution_count": 11,
   "metadata": {
    "collapsed": false
   },
   "outputs": [
    {
     "name": "stdout",
     "output_type": "stream",
     "text": [
      "0.162747577051\n",
      "(-0.014678964858128737, 0.11481170947101493)\n",
      "0.260135570394\n",
      "(0.005002162610185967, 0.5910286381133173)\n",
      "0.121145687266\n",
      "(-0.0020131622620431834, 0.82878643811129704)\n"
     ]
    }
   ],
   "source": [
    "from scipy.special import expit\n",
    "\n",
    "# RANDOM basics (MSE, Perason's r)\n",
    "# random (uniform distribution)\n",
    "sampled = np.random.random_sample(size=len(gold_sim_test))\n",
    "print(np.square(gold_sim_test - sampled).mean())\n",
    "print(pearsonr(gold_sim_test, sampled))\n",
    "# random (normal distribution, mean = 0.5)\n",
    "sampled = np.random.normal(loc=0.5, size=len(gold_sim_test)).clip(0.0, 1.0)\n",
    "print(np.square(gold_sim_test - sampled).mean())\n",
    "print(pearsonr(gold_sim_test, sampled))\n",
    "# random (normal distribution --> sigmoid) \n",
    "sampled = expit(np.random.normal(size=len(gold_sim_test)))\n",
    "print(np.square(gold_sim_test - sampled).mean())\n",
    "print(pearsonr(gold_sim_test, sampled))"
   ]
  },
  {
   "cell_type": "code",
   "execution_count": 12,
   "metadata": {
    "collapsed": false
   },
   "outputs": [],
   "source": [
    "# corpus\tPearson\tMSE\n",
    "\n",
    "# RANDOM\n",
    "# HASAN_ALL_orth_NEGSAMPLES0\t-\t0.160\t\t# RANDOM uniform distribution\n",
    "# HASAN_ALL_orth_NEGSAMPLES0\t-\t0.261\t\t# RANDOM normal distribution, mean = 0.5\n",
    "# HASAN_ALL_orth_NEGSAMPLES0\t-\t0.120\t\t# RANDOM normal distribution --> sigmoid\n",
    "# SICK_tt\t-\t0.165\t\t# RANDOM uniform distribution\n",
    "# SICK_tt\t-\t0.266\t\t# RANDOM normal distribution, mean = 0.5\n",
    "# SICK_tt\t-\t0.128\t\t# RANDOM normal distribution --> sigmoid\n",
    "\n",
    "# TFIDF\n",
    "# SICK_VERBADJNOUN_lemma\t0.611\t0.091\t\t# TFIDF\n",
    "# SICK_ADJNOUN_lemma\t0.558\t0.111\t\t\t# TFIDF\n",
    "# SICK_VERBADJNOUN_orth\t0.568\t0.106\t\t# TFIDF\n",
    "# SICK_ADJNOUN_orth\t0.542\t0.119\t\t\t# TFIDF\n",
    "# HASAN_VERBADJNOUN_lemma\t0.263\t0.148\t\t# TFIDF\n",
    "# HASAN_ALL_orth_NEGSAMPLES1\t0.288\t0.145\t\t# TFIDF\n",
    "# HASAN_ALL_orth_NEGSAMPLES0\t0.291\t0.174\t\t# TFIDF\n",
    "\n",
    "# LSTM50\n",
    "# SICK_tt_CMaggregate\t0.8136\t0.0236\t\t# batchsize100_embeddingstrainableTRUE_learningrate0.001_optimizerADADELTAOPTIMIZER_simmeasureSIMCOSINE_statesize50_testfileindex1_traindatapathPROCESSSENTENCE3SICKTTCMAGGREGATE_treeembedderTREEEMBEDDINGFLATLSTM50\n",
    "#NOTFINISHED # HASAN_NEGSAMPLES1\t0.165\t0.134\t\t# batchsize100_embeddingstrainableTRUE_learningrate0.001_optimizerADADELTAOPTIMIZER_simmeasureSIMCOSINE_statesize50_testfileindex1_traindatapathPROCESSSENTENCE3HASANCMAGGREGATE_treeembedderTREEEMBEDDINGFLATLSTM50\n",
    "#NOTFINISHED # HASAN_NEGSAMPLES0\t0.151\t0.094\t\t# batchsize100_embeddingstrainableTRUE_learningrate0.001_optimizerADADELTAOPTIMIZER_simmeasureSIMCOSINE_statesize50_testfileindex1_traindatapathPROCESSSENTENCE3HASANCMAGGREGATENEGSAMPLES0_treeembedderTREEEMBEDDINGFLATLSTM"
   ]
  },
  {
   "cell_type": "code",
   "execution_count": 28,
   "metadata": {
    "collapsed": false
   },
   "outputs": [
    {
     "name": "stdout",
     "output_type": "stream",
     "text": [
      "0.160848440083\n",
      "1.07814849875\n"
     ]
    }
   ],
   "source": []
  },
  {
   "cell_type": "code",
   "execution_count": 13,
   "metadata": {
    "collapsed": false
   },
   "outputs": [
    {
     "data": {
      "text/plain": [
       "count    46168.000000\n",
       "mean       136.014989\n",
       "std        119.406842\n",
       "min          6.000000\n",
       "25%         53.000000\n",
       "50%         96.000000\n",
       "75%        176.000000\n",
       "max        700.000000\n",
       "dtype: float64"
      ]
     },
     "execution_count": 13,
     "metadata": {},
     "output_type": "execute_result"
    }
   ],
   "source": [
    "len_train = [len(ids1) + len(ids2) for ids1, ids2, sim in tuples_tokenids_train]\n",
    "len_test = [len(ids1) + len(ids2) for ids1, ids2, sim in tuples_tokenids_test]\n",
    "len_train_single = [len(ids1) for ids1, ids2, sim in tuples_tokenids_train] + [len(ids2) for ids1, ids2, sim in tuples_tokenids_train]\n",
    "len_test_single = [len(ids1) for ids1, ids2, sim in tuples_tokenids_test] + [len(ids2) for ids1, ids2, sim in tuples_tokenids_test]\n",
    "len_single = len_train_single + len_test_single\n",
    "s_len_single = pd.Series(len_single)\n",
    "s_len_single.describe()"
   ]
  },
  {
   "cell_type": "code",
   "execution_count": 14,
   "metadata": {
    "collapsed": false
   },
   "outputs": [
    {
     "data": {
      "text/plain": [
       "<matplotlib.axes._subplots.AxesSubplot at 0x7fd750135910>"
      ]
     },
     "execution_count": 14,
     "metadata": {},
     "output_type": "execute_result"
    },
    {
     "name": "stderr",
     "output_type": "stream",
     "text": [
      "/home/arne/miniconda2/lib/python2.7/site-packages/matplotlib/font_manager.py:1297: UserWarning: findfont: Font family [u'monospace'] not found. Falling back to DejaVu Sans\n",
      "  (prop.get_family(), self.defaultFamily[fontext]))\n"
     ]
    },
    {
     "data": {
      "image/png": "[encoded data removed]",
      "text/plain": [
       "<matplotlib.figure.Figure at 0x7fd75011cfd0>"
      ]
     },
     "metadata": {},
     "output_type": "display_data"
    }
   ],
   "source": [
    "s_len_single.plot(kind='hist', bins=100, figsize=(32, 12), label='train', alpha=0.5)"
   ]
  },
  {
   "cell_type": "code",
   "execution_count": 15,
   "metadata": {
    "collapsed": false
   },
   "outputs": [
    {
     "data": {
      "text/plain": [
       "<matplotlib.axes._subplots.AxesSubplot at 0x7fd731828110>"
      ]
     },
     "execution_count": 15,
     "metadata": {},
     "output_type": "execute_result"
    },
    {
     "data": {
      "image/png": "[encoded data removed]",
      "text/plain": [
       "<matplotlib.figure.Figure at 0x7fd731d74d50>"
      ]
     },
     "metadata": {},
     "output_type": "display_data"
    }
   ],
   "source": [
    "#df_len = pd.DataFrame({'train': pd.Series(len_train), 'test': pd.Series(len_test)})\n",
    "#df_len.hist(bins=100, figsize=(32, 12))\n",
    "#f = plt.figure()\n",
    "s_len_train = pd.Series(len_train)\n",
    "s_len_test = pd.Series(len_test)\n",
    "s_len_train.plot(kind='hist', bins=100, figsize=(16, 12), label='train', alpha=0.5)\n",
    "s_len_test.plot(kind='hist', bins=100, figsize=(16, 12), label='test', alpha=0.5, secondary_y=True)"
   ]
  },
  {
   "cell_type": "code",
   "execution_count": 16,
   "metadata": {
    "collapsed": false
   },
   "outputs": [
    {
     "data": {
      "text/plain": [
       "count    11542.000000\n",
       "mean       273.491769\n",
       "std        171.779004\n",
       "min         22.000000\n",
       "25%        145.000000\n",
       "50%        225.000000\n",
       "75%        368.000000\n",
       "max       1191.000000\n",
       "dtype: float64"
      ]
     },
     "execution_count": 16,
     "metadata": {},
     "output_type": "execute_result"
    }
   ],
   "source": [
    "s_len_train.describe()"
   ]
  },
  {
   "cell_type": "code",
   "execution_count": 17,
   "metadata": {
    "collapsed": false
   },
   "outputs": [
    {
     "data": {
      "text/plain": [
       "count    11542.000000\n",
       "mean       270.568186\n",
       "std        167.691228\n",
       "min         18.000000\n",
       "25%        144.000000\n",
       "50%        225.000000\n",
       "75%        360.000000\n",
       "max       1172.000000\n",
       "dtype: float64"
      ]
     },
     "execution_count": 17,
     "metadata": {},
     "output_type": "execute_result"
    }
   ],
   "source": [
    "s_len_test.describe()"
   ]
  },
  {
   "cell_type": "code",
   "execution_count": 18,
   "metadata": {
    "collapsed": true
   },
   "outputs": [],
   "source": [
    "s_sims_train = pd.Series([sim for (_, _, sim) in tuples_tokenids_train])\n",
    "s_sims_test = pd.Series([sim for (_, _, sim) in tuples_tokenids_test])"
   ]
  },
  {
   "cell_type": "code",
   "execution_count": 19,
   "metadata": {
    "collapsed": false
   },
   "outputs": [
    {
     "data": {
      "text/html": [
       "<div>\n",
       "<table border=\"1\" class=\"dataframe\">\n",
       "  <thead>\n",
       "    <tr style=\"text-align: right;\">\n",
       "      <th></th>\n",
       "      <th>test</th>\n",
       "      <th>train</th>\n",
       "    </tr>\n",
       "  </thead>\n",
       "  <tbody>\n",
       "    <tr>\n",
       "      <th>count</th>\n",
       "      <td>11542.000000</td>\n",
       "      <td>11542.000000</td>\n",
       "    </tr>\n",
       "    <tr>\n",
       "      <th>mean</th>\n",
       "      <td>0.522378</td>\n",
       "      <td>0.523069</td>\n",
       "    </tr>\n",
       "    <tr>\n",
       "      <th>std</th>\n",
       "      <td>0.276300</td>\n",
       "      <td>0.275770</td>\n",
       "    </tr>\n",
       "    <tr>\n",
       "      <th>min</th>\n",
       "      <td>0.111111</td>\n",
       "      <td>0.111111</td>\n",
       "    </tr>\n",
       "    <tr>\n",
       "      <th>25%</th>\n",
       "      <td>0.333333</td>\n",
       "      <td>0.333333</td>\n",
       "    </tr>\n",
       "    <tr>\n",
       "      <th>50%</th>\n",
       "      <td>0.500000</td>\n",
       "      <td>0.500000</td>\n",
       "    </tr>\n",
       "    <tr>\n",
       "      <th>75%</th>\n",
       "      <td>0.500000</td>\n",
       "      <td>0.500000</td>\n",
       "    </tr>\n",
       "    <tr>\n",
       "      <th>max</th>\n",
       "      <td>1.000000</td>\n",
       "      <td>1.000000</td>\n",
       "    </tr>\n",
       "  </tbody>\n",
       "</table>\n",
       "</div>"
      ],
      "text/plain": [
       "               test         train\n",
       "count  11542.000000  11542.000000\n",
       "mean       0.522378      0.523069\n",
       "std        0.276300      0.275770\n",
       "min        0.111111      0.111111\n",
       "25%        0.333333      0.333333\n",
       "50%        0.500000      0.500000\n",
       "75%        0.500000      0.500000\n",
       "max        1.000000      1.000000"
      ]
     },
     "execution_count": 19,
     "metadata": {},
     "output_type": "execute_result"
    }
   ],
   "source": [
    "pd.DataFrame({'train':s_sims_train, 'test':s_sims_test}).describe()"
   ]
  },
  {
   "cell_type": "code",
   "execution_count": 20,
   "metadata": {
    "collapsed": false
   },
   "outputs": [
    {
     "data": {
      "text/plain": [
       "<matplotlib.axes._subplots.AxesSubplot at 0x7fd731230510>"
      ]
     },
     "execution_count": 20,
     "metadata": {},
     "output_type": "execute_result"
    },
    {
     "data": {
      "image/png": "[encoded data removed]",
      "text/plain": [
       "<matplotlib.figure.Figure at 0x7fd75011cd90>"
      ]
     },
     "metadata": {},
     "output_type": "display_data"
    }
   ],
   "source": [
    "s_sims_train.plot(kind='hist',bins=100, figsize=(32, 12), alpha=0.5)\n",
    "s_sims_test.plot(kind='hist',bins=100, figsize=(32, 12), alpha=0.5, secondary_y=True)\n",
    "#df_sim = pd.DataFrame({'train': s_sims_train, 'test': s_sims_test})\n",
    "#df_sim.plot(kind='hist',bins=100, figsize=(16, 12))\n",
    "#df_sim.hist(bins=100, figsize=(32, 12))"
   ]
  },
  {
   "cell_type": "code",
   "execution_count": null,
   "metadata": {
    "collapsed": true
   },
   "outputs": [],
   "source": []
  },
  {
   "cell_type": "code",
   "execution_count": null,
   "metadata": {
    "collapsed": true
   },
   "outputs": [],
   "source": [
    "def print_stats(texts_train, texts_test):\n",
    "    train_sentences_first_unique = set([s1 for (s1, s2, sc) in texts_train])\n",
    "    train_sentences_second_unique = set([s2 for (s1, s2, sc) in texts_train])\n",
    "    print('train_sentences_first_unique:\\t'+str(len(train_sentences_first_unique)))\n",
    "    print('train_sentences_second_unique:\\t'+str(len(train_sentences_second_unique)))\n",
    "    train_sentences_unique = train_sentences_first_unique\n",
    "    train_sentences_unique.update(train_sentences_second_unique)\n",
    "    print('train_sentences_unique:\\t'+str(len(train_sentences_unique)))\n",
    "\n",
    "    train_tuple = [s1+s2 for (s1, s2, sc) in texts_train]\n",
    "    print('train_tuple duplicates: '+ str(len(train_tuple) - len(set(train_tuple))))\n",
    "    print('train_tuple unique: '+ str(len(set(train_tuple))))\n",
    "\n",
    "    test_sentences_first_unique = set([s1 for (s1, s2, sc) in texts_test])\n",
    "    test_sentences_second_unique = set([s2 for (s1, s2, sc) in texts_test])\n",
    "    print('test_sentences_first_unique:\\t'+str(len(test_sentences_first_unique)))\n",
    "    print('test_sentences_second_unique:\\t'+str(len(test_sentences_second_unique)))\n",
    "    test_sentences_unique = test_sentences_first_unique\n",
    "    test_sentences_unique.update(test_sentences_second_unique)\n",
    "    print('test_sentences_unique:\\t'+str(len(test_sentences_unique)))\n",
    "\n",
    "    test_tuple = [s1+s2 for (s1, s2, sc) in texts_test]\n",
    "    print('test_tuple duplicates: '+ str(len(test_tuple) - len(set(test_tuple))))\n",
    "    print('test_tuple unique: '+ str(len(set(test_tuple))))\n",
    "\n",
    "    sentences_unique = train_sentences_unique\n",
    "    sentences_unique.update(test_sentences_unique)\n",
    "    print('sentences_unique:\\t'+str(len(sentences_unique)))\n",
    "    \n",
    "    tuple_unique = set(train_tuple)\n",
    "    tuple_unique.update(set(test_tuple))\n",
    "    print('tuple unique: '+ str(len(tuple_unique)))\n",
    "    print('train/test tuple overlap: '+ str(len(set(train_tuple)) + len(set(test_tuple)) - len(tuple_unique)))"
   ]
  }
 ],
 "metadata": {
  "kernelspec": {
   "display_name": "Python [conda root]",
   "language": "python",
   "name": "conda-root-py"
  },
  "language_info": {
   "codemirror_mode": {
    "name": "ipython",
    "version": 2
   },
   "file_extension": ".py",
   "mimetype": "text/x-python",
   "name": "python",
   "nbconvert_exporter": "python",
   "pygments_lexer": "ipython2",
   "version": "2.7.12"
  }
 },
 "nbformat": 4,
 "nbformat_minor": 2
}
