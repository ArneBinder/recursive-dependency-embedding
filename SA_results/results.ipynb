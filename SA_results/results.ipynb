{
 "cells": [
  {
   "cell_type": "code",
   "execution_count": 1,
   "metadata": {
    "collapsed": true
   },
   "outputs": [],
   "source": [
    "# BASELINE\n",
    "# TFIDF\n",
    "# SICK_VERBADJNOUN_lemma\t0.611\t0.091\t\t# TFIDF\n",
    "# SICK_ADJNOUN_lemma\t0.558\t0.111\t\t\t# TFIDF\n",
    "# SICK_VERBADJNOUN_orth\t0.568\t0.106\t\t# TFIDF\n",
    "# SICK_ADJNOUN_orth\t0.542\t0.119\t\t\t# TFIDF\n"
   ]
  },
  {
   "cell_type": "code",
   "execution_count": null,
   "metadata": {
    "collapsed": true
   },
   "outputs": [],
   "source": []
  }
 ],
 "metadata": {
  "kernelspec": {
   "display_name": "Python [conda root]",
   "language": "python",
   "name": "conda-root-py"
  },
  "language_info": {
   "codemirror_mode": {
    "name": "ipython",
    "version": 2
   },
   "file_extension": ".py",
   "mimetype": "text/x-python",
   "name": "python",
   "nbconvert_exporter": "python",
   "pygments_lexer": "ipython2",
   "version": "2.7.12"
  }
 },
 "nbformat": 4,
 "nbformat_minor": 2
}
