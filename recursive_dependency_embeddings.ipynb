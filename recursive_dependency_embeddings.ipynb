{
 "cells": [
  {
   "cell_type": "code",
   "execution_count": 1,
   "metadata": {
    "collapsed": false
   },
   "outputs": [],
   "source": [
    "from __future__ import print_function\n",
    "from preprocessing import read_data, slice_forest, articles_from_csv_reader, dummy_str_reader, get_word_embeddings\n",
    "from visualize import visualize\n",
    "import numpy as np\n",
    "import spacy\n",
    "import constants"
   ]
  },
  {
   "cell_type": "code",
   "execution_count": 2,
   "metadata": {
    "collapsed": true
   },
   "outputs": [],
   "source": [
    "dim = 300\n",
    "edge_count = 60\n",
    "seq_length = 10\n",
    "\n",
    "slice_size = 75\n",
    "max_forest_count = 10\n",
    "\n",
    "nlp = spacy.load('en')\n",
    "nlp.pipeline = [nlp.tagger, nlp.parser]"
   ]
  },
  {
   "cell_type": "code",
   "execution_count": 3,
   "metadata": {
    "collapsed": false
   },
   "outputs": [
    {
     "name": "stdout",
     "output_type": "stream",
     "text": [
      "Total time running get_word_embeddings: 7.82850193977 seconds\n"
     ]
    }
   ],
   "source": [
    "vecs, mapping, human_mapping = get_word_embeddings(nlp.vocab)\n",
    "data_embedding_maps = {constants.WORD_EMBEDDING: mapping}\n",
    "data_embedding_maps_human = {constants.WORD_EMBEDDING: human_mapping}\n",
    "data_vecs = {constants.WORD_EMBEDDING: vecs}"
   ]
  },
  {
   "cell_type": "code",
   "execution_count": 4,
   "metadata": {
    "collapsed": false
   },
   "outputs": [
    {
     "name": "stdout",
     "output_type": "stream",
     "text": [
      "parse 1 articles\n",
      "read article: wikipedia-23885690 ...  0 %\n",
      "Total time running read_data: 0.143586874008 seconds\n"
     ]
    }
   ],
   "source": [
    "data_dir = '/media/arne/DATA/DEVELOPING/ML/data/'\n",
    "# create data arrays\n",
    "(seq_data, seq_types, seq_heads, seq_edges), edge_map = \\\n",
    "    read_data(articles_from_csv_reader, nlp, data_embedding_maps, max_forest_count=max_forest_count, max_sen_length=slice_size,\n",
    "              args={'max_articles': 1, 'filename': data_dir + 'corpora/documents_utf8_filtered_20pageviews.csv'})"
   ]
  },
  {
   "cell_type": "code",
   "execution_count": 5,
   "metadata": {
    "collapsed": true
   },
   "outputs": [],
   "source": [
    "# take first 50 token and visualize the dependency graph\n",
    "sliced_data, sliced_types, sliced_heads, sliced_edges = slice_forest(seq_data, seq_types, seq_heads, seq_edges, 0, 50)\n",
    "visualize('forest3.png', sliced_data, sliced_types, sliced_heads, sliced_edges, data_embedding_maps_human, edge_map)"
   ]
  },
  {
   "cell_type": "code",
   "execution_count": null,
   "metadata": {
    "collapsed": false
   },
   "outputs": [],
   "source": []
  },
  {
   "cell_type": "code",
   "execution_count": null,
   "metadata": {
    "collapsed": false
   },
   "outputs": [],
   "source": []
  },
  {
   "cell_type": "code",
   "execution_count": null,
   "metadata": {
    "collapsed": true
   },
   "outputs": [],
   "source": []
  }
 ],
 "metadata": {
  "kernelspec": {
   "display_name": "Python [conda root]",
   "language": "python",
   "name": "conda-root-py"
  },
  "language_info": {
   "codemirror_mode": {
    "name": "ipython",
    "version": 2
   },
   "file_extension": ".py",
   "mimetype": "text/x-python",
   "name": "python",
   "nbconvert_exporter": "python",
   "pygments_lexer": "ipython2",
   "version": "2.7.12"
  }
 },
 "nbformat": 4,
 "nbformat_minor": 2
}
